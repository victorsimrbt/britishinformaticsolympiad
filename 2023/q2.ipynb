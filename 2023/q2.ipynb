{
 "cells": [
  {
   "cell_type": "code",
   "execution_count": 21,
   "metadata": {},
   "outputs": [
    {
     "data": {
      "image/png": "[encoded data removed]",
      "text/plain": [
       "<Figure size 640x480 with 1 Axes>"
      ]
     },
     "metadata": {},
     "output_type": "display_data"
    }
   ],
   "source": [
    "import numpy as np\n",
    "from matplotlib import pyplot as plt\n",
    "F = [[1,0],[2,0],[0,-1],[1,-1],[1,-2]]\n",
    "G = [[0,0],[1,0],[1,-1],[1,-2],[2,-1]]\n",
    "I = [[0,0],[0,-1],[0,-2],[0,-3],[0,-4]]\n",
    "L = [[0,0],[0,-1],[0,-2],[0,-3],[1,-3]]\n",
    "J = [[1,0],[1,-1],[1,-2],[1,-3],[0,-4]]\n",
    "N = [[1,0],[0,-1],[1,-1],[0,-2],[0,-3]]\n",
    "M = [[0,0],[0,-1],[1,-1],[1,-2],[1,-3]]\n",
    "P = [[0,0],[1,0],[0,-1],[1,-1],[0,-2]]\n",
    "Q = [[0,0],[1,0],[0,-1],[1,-1],[1,-2]]\n",
    "T = [[0,0],[1,0],[2,0],[1,-1],[1,-2]]\n",
    "U = [[0,0],[0,-1],[2,0],[1,-1],[2,-1]]\n",
    "V = [[0,0],[0,-1],[0,-2],[1,-2],[2,-2]]\n",
    "W = [[0,0],[0,-1],[1,-1],[1,-2],[2,-2]]\n",
    "X = [[1,0],[0,-1],[1,-1],[1,-2],[2,-1]]\n",
    "Z = [[0,0],[1,0],[1,-1],[1,-2],[2,-2]]\n",
    "S = [[1,0],[2,0],[1,-1],[1,-2],[0,-2]]\n",
    "Y = [[1,0],[0,-1],[1,-1],[1,-2],[1,-3]]\n",
    "A = [[0,0],[0,-1],[0,-2],[0,-3],[1,-1]]\n",
    "print(\"NAME: VICTOR SIM\")\n",
    "print(\"YEAR: 11\")\n",
    "print(\"SCHOOL: WICHESTER COLLEGE\")\n",
    "\n",
    "grid = np.zeros((10,10))\n",
    "def plot_shape(shape):\n",
    "    for square in shape:\n",
    "        plt.scatter(square[0],square[1])\n",
    "    plt.show()\n"
   ]
  },
  {
   "cell_type": "code",
   "execution_count": 169,
   "metadata": {},
   "outputs": [
    {
     "data": {
      "text/plain": [
       "13"
      ]
     },
     "execution_count": 169,
     "metadata": {},
     "output_type": "execute_result"
    }
   ],
   "source": [
    "import numpy as np\n",
    "from matplotlib import pyplot as plt\n",
    "\n",
    "F = [[1,0],[2,0],[0,-1],[1,-1],[1,-2]]\n",
    "G = [[0,0],[1,0],[1,-1],[1,-2],[2,-1]]\n",
    "I = [[0,0],[0,-1],[0,-2],[0,-3],[0,-4]]\n",
    "L = [[0,0],[0,-1],[0,-2],[0,-3],[1,-3]]\n",
    "J = [[1,0],[1,-1],[1,-2],[1,-3],[0,-4]]\n",
    "N = [[1,0],[0,-1],[1,-1],[0,-2],[0,-3]]\n",
    "M = [[0,0],[0,-1],[1,-1],[1,-2],[1,-3]]\n",
    "P = [[0,0],[1,0],[0,-1],[1,-1],[0,-2]]\n",
    "Q = [[0,0],[1,0],[0,-1],[1,-1],[1,-2]]\n",
    "T = [[0,0],[1,0],[2,0],[1,-1],[1,-2]]\n",
    "U = [[0,0],[0,-1],[3,0],[1,-1],[2,-1]]\n",
    "V = [[0,0],[0,-1],[0,-2],[1,-2],[2,-2]]\n",
    "W = [[0,0],[0,-1],[1,-1],[1,-2],[2,-2]]\n",
    "X = [[1,0],[0,-1],[1,-1],[1,-2],[2,-1]]\n",
    "Z = [[0,0],[1,0],[1,-1],[1,-2],[2,-2]]\n",
    "S = [[1,0],[2,0],[1,-1],[1,-2],[0,-2]]\n",
    "Y = [[1,0],[0,-1],[1,-1],[1,-2],[1,-3]]\n",
    "A = [[0,0],[0,-1],[0,-2],[0,-3],[1,-1]]\n",
    "\n",
    "points = {}\n",
    "input_translation = {\n",
    "    \"F\" : F,\n",
    "    \"G\" : G,\n",
    "    \"I\" : I,\n",
    "    \"L\" : L,\n",
    "    \"J\" : J,\n",
    "    \"N\" : N,\n",
    "    \"M\" : M,\n",
    "    \"P\" : P,\n",
    "    \"Q\" : Q,\n",
    "    \"T\" : T,\n",
    "    \"U\" : U,\n",
    "    \"V\" : V,\n",
    "    \"W\" : W,\n",
    "    \"Z\" : Z,\n",
    "    \"S\" : S,\n",
    "    \"Y\" : A,\n",
    "    \n",
    "}\n",
    "    \n",
    "colours = [\"R\",\"B\"]\n",
    "def neighbors(coord):\n",
    "    adjacent = []\n",
    "    x,y= coord\n",
    "    adjacent.append([x,y+1])\n",
    "    adjacent.append([x+1,y])\n",
    "    adjacent.append([x,y-1])\n",
    "    adjacent.append([x-1,y])\n",
    "    return adjacent\n",
    "\n",
    "def place_shape(shape,base_coord,points,marker):\n",
    "    shape_points = np.array(shape) + np.array(base_coord)\n",
    "    for point in shape_points:\n",
    "        points[tuple(point)] = marker\n",
    "        # grid[point[0]][point[1]] = marker\n",
    "    return points\n",
    "        \n",
    "def check_valid(shape_1,shape_2):\n",
    "    for point in shape_1:\n",
    "        if point in shape_2:\n",
    "            return False\n",
    "    for point in shape_1:\n",
    "        adj = neighbors(point)\n",
    "        for neighbor in adj:\n",
    "            if tuple(neighbor) in shape_2:\n",
    "                return True\n",
    "    return False\n",
    "\n",
    "def plot_shape(points):\n",
    "    for point in points:\n",
    "        x,y = point\n",
    "        plt.scatter(x,y)\n",
    "\n",
    "def fuse_points(shape_1,shape_2):\n",
    "    master_points = {}\n",
    "    for point in shape_1:\n",
    "        master_points[point] = 1\n",
    "    for point in shape_2:\n",
    "        master_points[point] = 1\n",
    "    return master_points\n",
    "\n",
    "def secondelem(a):\n",
    "    return [a[1],a[0]]\n",
    "\n",
    "def normalize(grid):\n",
    "    def secondelem(a):\n",
    "        return a[1]\n",
    "    points = [point for point in grid.keys()]\n",
    "    points = sorted(sorted(points,key=secondelem))\n",
    "    base_coord = points[0]\n",
    "    normalize_op =  np.array([0,0]) - np.array(base_coord)\n",
    "    points = np.array(points) + normalize_op\n",
    "    points = [list(point) for point in points]\n",
    "    return points\n",
    "\n",
    "valid = 0\n",
    "configs = []\n",
    "original =[]\n",
    "for x in range(-5,6):\n",
    "    shape_1 = place_shape(W,[0,0],{},1)\n",
    "    for y in range(-5,6):\n",
    "        shape_2 = place_shape(X,[x,y],{},2)\n",
    "        if check_valid(shape_1,shape_2):\n",
    "            grid = fuse_points(shape_1,shape_2)\n",
    "            orig = [key for key in grid.keys()]\n",
    "            grid = list(normalize(grid))\n",
    "            # print(grid,configs)\n",
    "            if not(sorted(grid) in configs):\n",
    "                configs.append(sorted(grid))\n",
    "                original.append(orig)\n",
    "                valid += 1\n",
    "valid"
   ]
  },
  {
   "cell_type": "code",
   "execution_count": 183,
   "metadata": {},
   "outputs": [
    {
     "data": {
      "image/png": "[encoded data removed]",
      "text/plain": [
       "<Figure size 640x480 with 1 Axes>"
      ]
     },
     "metadata": {},
     "output_type": "display_data"
    }
   ],
   "source": [
    "plot_shape(configs[12])"
   ]
  },
  {
   "cell_type": "code",
   "execution_count": 161,
   "metadata": {},
   "outputs": [
    {
     "data": {
      "text/plain": [
       "([(1, 0),\n",
       "  (2, 0),\n",
       "  (0, -1),\n",
       "  (1, -1),\n",
       "  (1, -2),\n",
       "  (3, 0),\n",
       "  (4, 0),\n",
       "  (2, -1),\n",
       "  (3, -1),\n",
       "  (3, -2)],\n",
       " (1, -2))"
      ]
     },
     "execution_count": 161,
     "metadata": {},
     "output_type": "execute_result"
    }
   ],
   "source": [
    "original[2],original[7]\n",
    "\n",
    "def secondelem(a):\n",
    "    return a[1]\n",
    "points = original[2]\n",
    "points = sorted(points,key=secondelem)\n",
    "base_coord = points[0]\n",
    "original[7],base_coord"
   ]
  },
  {
   "cell_type": "code",
   "execution_count": 148,
   "metadata": {},
   "outputs": [
    {
     "data": {
      "image/png": "[encoded data removed]",
      "text/plain": [
       "<Figure size 640x480 with 1 Axes>"
      ]
     },
     "metadata": {},
     "output_type": "display_data"
    }
   ],
   "source": [
    "plot_shape(configs[7])"
   ]
  },
  {
   "cell_type": "code",
   "execution_count": 149,
   "metadata": {},
   "outputs": [
    {
     "data": {
      "image/png": "[encoded data removed]",
      "text/plain": [
       "<Figure size 640x480 with 1 Axes>"
      ]
     },
     "metadata": {},
     "output_type": "display_data"
    }
   ],
   "source": [
    "plot_shape(configs[2])"
   ]
  },
  {
   "cell_type": "code",
   "execution_count": 142,
   "metadata": {},
   "outputs": [
    {
     "data": {
      "text/plain": [
       "([[-3, 1],\n",
       "  [-2, 0],\n",
       "  [-2, 1],\n",
       "  [-2, 2],\n",
       "  [-1, 1],\n",
       "  [-1, 2],\n",
       "  [0, 0],\n",
       "  [0, 1],\n",
       "  [0, 2],\n",
       "  [1, 2]],\n",
       " [[-1, 1],\n",
       "  [0, 0],\n",
       "  [0, 1],\n",
       "  [0, 2],\n",
       "  [1, 1],\n",
       "  [1, 2],\n",
       "  [2, 0],\n",
       "  [2, 1],\n",
       "  [2, 2],\n",
       "  [3, 2]])"
      ]
     },
     "execution_count": 142,
     "metadata": {},
     "output_type": "execute_result"
    }
   ],
   "source": [
    "configs[2],configs[7]"
   ]
  },
  {
   "cell_type": "code",
   "execution_count": 129,
   "metadata": {},
   "outputs": [
    {
     "data": {
      "text/plain": [
       "([[0, 0],\n",
       "  [-1, 1],\n",
       "  [0, 1],\n",
       "  [0, 2],\n",
       "  [1, 2],\n",
       "  [-1, 2],\n",
       "  [-2, 3],\n",
       "  [-1, 3],\n",
       "  [-1, 4],\n",
       "  [0, 4]],\n",
       " [[0, 0],\n",
       "  [-1, 1],\n",
       "  [0, 1],\n",
       "  [-1, 2],\n",
       "  [0, 2],\n",
       "  [1, 2],\n",
       "  [-2, 3],\n",
       "  [-1, 3],\n",
       "  [-1, 4],\n",
       "  [0, 4]])"
      ]
     },
     "execution_count": 129,
     "metadata": {},
     "output_type": "execute_result"
    }
   ],
   "source": [
    "configs[5],configs[7]"
   ]
  },
  {
   "cell_type": "code",
   "execution_count": 55,
   "metadata": {},
   "outputs": [
    {
     "data": {
      "text/plain": [
       "14"
      ]
     },
     "execution_count": 55,
     "metadata": {},
     "output_type": "execute_result"
    }
   ],
   "source": [
    "def secondelem(a):\n",
    "    return a[1]\n",
    "def normalize(grid):\n",
    "    def secondelem(a):\n",
    "        return a[1]\n",
    "    grid = configs[0]\n",
    "    points = [point for point in grid.keys()]\n",
    "    points = sorted(points,key=secondelem)\n",
    "    base_coord = points[0]\n",
    "    normalize_op =  np.array([0,0]) - np.array(base_coord)\n",
    "    points = np.array(points) + normalize_op\n",
    "    return points\n"
   ]
  },
  {
   "cell_type": "code",
   "execution_count": 98,
   "metadata": {},
   "outputs": [
    {
     "name": "stdout",
     "output_type": "stream",
     "text": [
      "[(1, 0), (2, 0), (0, -1), (1, -1), (1, -2), (-2, -1), (-1, -1), (-3, -2), (-2, -2), (-2, -3)]\n"
     ]
    },
    {
     "data": {
      "text/plain": [
       "array([[ 0,  0],\n",
       "       [ 3,  1],\n",
       "       [-1,  1],\n",
       "       [ 0,  1],\n",
       "       [ 2,  2],\n",
       "       [ 3,  2],\n",
       "       [ 0,  2],\n",
       "       [ 1,  2],\n",
       "       [ 3,  3],\n",
       "       [ 4,  3]])"
      ]
     },
     "execution_count": 98,
     "metadata": {},
     "output_type": "execute_result"
    }
   ],
   "source": [
    "def secondelem(a):\n",
    "    return a[1]\n",
    "grid = configs[0]\n",
    "points = [point for point in grid.keys()]\n",
    "points = sorted(points,key=secondelem)\n",
    "base_coord = points[0]\n",
    "normalize_op =  np.array([0,0]) - np.array(base_coord)\n",
    "points = np.array(points) + normalize_op\n",
    "points"
   ]
  },
  {
   "cell_type": "code",
   "execution_count": 93,
   "metadata": {},
   "outputs": [
    {
     "name": "stdout",
     "output_type": "stream",
     "text": [
      "[[-3, -2], [-2, -3], [-2, -2], [-2, 1], [-1, -2], [-1, -1], [-1, 0], [-1, 1], [0, 1], [0, 2]]\n"
     ]
    }
   ],
   "source": [
    "grid = configs[0]\n",
    "points = [list(reversed(point)) for point in grid.keys()]\n",
    "print(sorted(points))"
   ]
  },
  {
   "cell_type": "code",
   "execution_count": 51,
   "metadata": {},
   "outputs": [],
   "source": [
    "def check_valid(shape_1,shape_2):\n",
    "    for point in shape_1:\n",
    "        if point in shape_2:\n",
    "            return False\n",
    "    for point in shape_1:\n",
    "        adj = neighbors(point)\n",
    "        for neighbor in adj:\n",
    "            if tuple(neighbor) in shape_2:\n",
    "                return True\n",
    "    return False\n",
    "shape_1 = place_shape(F,[0,0],{},1)\n",
    "shape_2 = place_shape(F,[-1,2],{},2)"
   ]
  },
  {
   "cell_type": "code",
   "execution_count": 52,
   "metadata": {},
   "outputs": [
    {
     "data": {
      "text/plain": [
       "True"
      ]
     },
     "execution_count": 52,
     "metadata": {},
     "output_type": "execute_result"
    }
   ],
   "source": [
    "check_valid(shape_1,shape_2)"
   ]
  },
  {
   "cell_type": "code",
   "execution_count": null,
   "metadata": {},
   "outputs": [],
   "source": []
  }
 ],
 "metadata": {
  "kernelspec": {
   "display_name": "base",
   "language": "python",
   "name": "python3"
  },
  "language_info": {
   "codemirror_mode": {
    "name": "ipython",
    "version": 3
   },
   "file_extension": ".py",
   "mimetype": "text/x-python",
   "name": "python",
   "nbconvert_exporter": "python",
   "pygments_lexer": "ipython3",
   "version": "3.8.15 (default, Nov 24 2022, 14:38:14) [MSC v.1916 64 bit (AMD64)]"
  },
  "orig_nbformat": 4,
  "vscode": {
   "interpreter": {
    "hash": "62ca328bea2807fdbcf0772dec5911af88ca03e1e8ae5bac692e27b455f5f738"
   }
  }
 },
 "nbformat": 4,
 "nbformat_minor": 2
}
