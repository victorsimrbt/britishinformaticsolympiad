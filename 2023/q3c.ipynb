{
 "cells": [
  {
   "cell_type": "code",
   "execution_count": 1,
   "metadata": {},
   "outputs": [
    {
     "data": {
      "text/plain": [
       "120"
      ]
     },
     "execution_count": 1,
     "metadata": {},
     "output_type": "execute_result"
    }
   ],
   "source": [
    "import copy\n",
    "print(\"NAME: VICTOR SIM\")\n",
    "print(\"YEAR: 11\")\n",
    "print(\"SCHOOL: WICHESTER COLLEGE\")\n",
    "def move(stacks,stack_1,stack_2):\n",
    "    # move from stack_1 to stack_2\n",
    "    if stacks[stack_1]:\n",
    "        top_ball = stacks[stack_1].pop()\n",
    "        stacks[stack_2].append(top_ball)\n",
    "    return stacks\n",
    "\n",
    "def state2str(stacks):\n",
    "    string = ''\n",
    "    for stack in stacks:\n",
    "        if stack:\n",
    "            string += ''.join([str(char) for char in stack])\n",
    "        else:\n",
    "            string += \"0\"\n",
    "        string += \" \"\n",
    "    return string[:-1]\n",
    "\n",
    "def str2state(string):\n",
    "    stacks = []\n",
    "    for stack in string.split():\n",
    "        if stack == \"0\":\n",
    "            stacks.append([])\n",
    "        else:\n",
    "            stacks.append([char for char in stack])\n",
    "    return stacks\n",
    "\n",
    "def generate_neighbors(stacks):\n",
    "    neighbors = []\n",
    "    for stack_1 in range(4):\n",
    "        for stack_2 in range(4):\n",
    "            if stack_1 != stack_2:\n",
    "                neighbors.append(move(copy.deepcopy(stacks),stack_1,stack_2))\n",
    "    return neighbors\n",
    "\n",
    "def generate_unique(stacks):\n",
    "    neighbors = []\n",
    "    for stack_1 in range(4):\n",
    "        for stack_2 in range(4):\n",
    "            if stack_1 != stack_2:\n",
    "                state = move(copy.deepcopy(stacks),stack_1,stack_2)\n",
    "                if not(state in neighbors):\n",
    "                    neighbors.append(state)\n",
    "    return neighbors\n",
    "\n",
    "game_states = 0\n",
    "neighbors = generate_unique([[1],[2],[3],[4]])\n",
    "\n",
    "states = []\n",
    "for neighbor in neighbors:\n",
    "    states += generate_unique(neighbor)\n",
    "    game_states += len(generate_unique(neighbor))\n",
    "    \n",
    "neighbors = states\n",
    "len(states)"
   ]
  },
  {
   "cell_type": "code",
   "execution_count": 28,
   "metadata": {},
   "outputs": [],
   "source": [
    "states = []\n",
    "game_states = 0\n",
    "for neighbor in neighbors:\n",
    "    states += generate_unique(neighbor)\n",
    "    game_states += len(generate_unique(neighbor))\n",
    "neighbors = states"
   ]
  },
  {
   "cell_type": "code",
   "execution_count": 29,
   "metadata": {},
   "outputs": [],
   "source": [
    "states = []\n",
    "game_states = 0\n",
    "for neighbor in neighbors:\n",
    "    states += generate_unique(neighbor)\n",
    "    game_states += len(generate_unique(neighbor))"
   ]
  },
  {
   "cell_type": "code",
   "execution_count": 30,
   "metadata": {},
   "outputs": [
    {
     "data": {
      "text/plain": [
       "9552"
      ]
     },
     "execution_count": 30,
     "metadata": {},
     "output_type": "execute_result"
    }
   ],
   "source": [
    "game_states"
   ]
  },
  {
   "cell_type": "code",
   "execution_count": null,
   "metadata": {},
   "outputs": [],
   "source": []
  }
 ],
 "metadata": {
  "kernelspec": {
   "display_name": "base",
   "language": "python",
   "name": "python3"
  },
  "language_info": {
   "codemirror_mode": {
    "name": "ipython",
    "version": 3
   },
   "file_extension": ".py",
   "mimetype": "text/x-python",
   "name": "python",
   "nbconvert_exporter": "python",
   "pygments_lexer": "ipython3",
   "version": "3.8.15 (default, Nov 24 2022, 14:38:14) [MSC v.1916 64 bit (AMD64)]"
  },
  "orig_nbformat": 4,
  "vscode": {
   "interpreter": {
    "hash": "62ca328bea2807fdbcf0772dec5911af88ca03e1e8ae5bac692e27b455f5f738"
   }
  }
 },
 "nbformat": 4,
 "nbformat_minor": 2
}
