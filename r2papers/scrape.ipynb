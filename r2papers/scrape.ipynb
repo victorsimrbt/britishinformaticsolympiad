{
 "cells": [
  {
   "cell_type": "code",
   "execution_count": 2,
   "metadata": {},
   "outputs": [],
   "source": [
    "import requests\n",
    "years = [str(2007+i) for i in range(16)]\n",
    "BASE_ENDPOINT = \"https://www.olympiad.org.uk/papers/2018/bio/bio18-exam.pdf\"\n",
    "\n",
    "def format_endpoint(year,paper_type):\n",
    "    year_end = year[-2:]\n",
    "    return \"https://www.olympiad.org.uk/papers/{}/bio/bio{}-{}.pdf\".format(year,year_end,paper_type)\n",
    "\n",
    "endpoint = format_endpoint(\"2009\",\"marks\")\n",
    "for year in years:\n",
    "    r = requests.get(format_endpoint(year,\"exam\"))\n",
    "    with open(year+'qp.pdf', 'wb') as f:\n",
    "        f.write(r.content)\n",
    "    r = requests.get(format_endpoint(year,\"marks\"))\n",
    "    with open(year+'ms.pdf', 'wb') as f:\n",
    "        f.write(r.content)\n",
    "r = requests.get(endpoint)"
   ]
  },
  {
   "cell_type": "code",
   "execution_count": 16,
   "metadata": {},
   "outputs": [
    {
     "name": "stdout",
     "output_type": "stream",
     "text": [
      "['contest.pdf', 'doohickey.pdf', 'drm.pdf', 'folding.pdf', 'parse.pdf', 'pin.pdf']\n",
      "['colour.pdf', 'infiltration.pdf', 'noitargetni.pdf', 'paper.pdf', 'scene.pdf', 'weather.pdf']\n",
      "['allwork.pdf', 'fairexchange.pdf', 'friend.pdf', 'measures.pdf', 'sentiment.pdf', 'training.pdf', 'warmup.pdf']\n",
      "['bloom.pdf', 'fashion.pdf', 'game.pdf', 'spy1.pdf', 'spy2.pdf', 'trail.pdf']\n",
      "['air.pdf', 'earth.pdf', 'feature.pdf', 'fire.pdf', 'interleaving.pdf', 'water.pdf']\n",
      "['clearance.pdf', 'pebble.pdf', 'slipstream.pdf', 'smallworld.pdf', 'translate.pdf']\n",
      "['Coup.pdf', 'Magi.pdf', 'Seed.pdf', 'Supermarket.pdf', 'Thoroughbred.pdf', 'TowerOfLondon.pdf']\n",
      "['annotated-bonus.pdf', 'annotated.pdf', 'beholder-pt1.pdf', 'beholder-pt2.pdf', 'fractran.pdf', 'plough.pdf', 'warmup.pdf']\n",
      "['150.pdf', 'ispy.pdf', 'masked.pdf', 'riverbank.pdf', 'steganography.pdf']\n",
      "['AA1.pdf', 'AA2.pdf', 'Riffled.pdf', 'Scoop1.pdf', 'Scoop2.pdf']\n",
      "['BrokersDoom.pdf', 'KeepOnTheGrass.pdf', 'PhotoFinish.pdf', 'TickTock.pdf']\n",
      "['Bonus.pdf', 'Byway.pdf', 'Cables.pdf', 'Detente.pdf', 'Show.pdf']\n",
      "['almanac.pdf', 'cog.pdf', 'tubes.pdf', 'velocity.pdf']\n",
      "['Bit.pdf', 'Bonus.pdf', 'Raiders.pdf', 'Spycraft.pdf', 'Vision.pdf']\n",
      "['carve.pdf', 'dine.pdf', 'proto.pdf', 'whisperer.pdf']\n",
      "['deaddrop.pdf', 'moss.pdf', 'offcut.pdf', 'tea.pdf']\n",
      "['fork.pdf', 'hats.pdf', 'knife.pdf', 'milk.pdf']\n"
     ]
    }
   ],
   "source": [
    "import requests\n",
    "from bs4 import BeautifulSoup\n",
    "\n",
    "years = years = [str(2007+i) for i in range(17)]\n",
    "\n",
    "def format_endpoint(year):\n",
    "    return \"https://www.olympiad.org.uk/papers/{}/final/\".format(year)\n",
    "\n",
    "\n",
    "def save_questions(year,endpoint):\n",
    "    r = requests.get(endpoint)\n",
    "    soup = BeautifulSoup(r.content)\n",
    "    questions = [tag[\"href\"] for tag in soup.find_all(\"a\") if \"pdf\" in tag[\"href\"]]\n",
    "    print(questions)\n",
    "    for question in questions:\n",
    "        r = requests.get(endpoint+question)\n",
    "        with open(str(year)+'_'+question, 'wb') as f:\n",
    "            f.write(r.content)\n",
    "\n",
    "for year in years:\n",
    "    base_endpoint = format_endpoint(year)\n",
    "    save_questions(year,base_endpoint)"
   ]
  },
  {
   "cell_type": "code",
   "execution_count": 8,
   "metadata": {},
   "outputs": [
    {
     "data": {
      "text/plain": [
       "<!DOCTYPE HTML PUBLIC \"-//W3C//DTD HTML 3.2 Final//EN\">\n",
       "\n",
       "<html>\n",
       "<head>\n",
       "<title>Index of /papers/2008/final</title>\n",
       "</head>\n",
       "<body>\n",
       "<h1>Index of /papers/2008/final</h1>\n",
       "<table>\n",
       "<tr><th valign=\"top\"> </th><th><a href=\"?C=N;O=D\">Name</a></th><th><a href=\"?C=M;O=A\">Last modified</a></th><th><a href=\"?C=S;O=A\">Size</a></th><th><a href=\"?C=D;O=A\">Description</a></th></tr>\n",
       "<tr><th colspan=\"5\"><hr/></th></tr>\n",
       "<tr><td valign=\"top\"> </td><td><a href=\"/papers/2008/\">Parent Directory</a> </td><td> </td><td align=\"right\">  - </td><td> </td></tr>\n",
       "<tr><td valign=\"top\"> </td><td><a href=\"colour.pdf\">colour.pdf</a> </td><td align=\"right\">2008-04-01 07:10  </td><td align=\"right\"> 45K</td><td> </td></tr>\n",
       "<tr><td valign=\"top\"> </td><td><a href=\"infiltration.pdf\">infiltration.pdf</a> </td><td align=\"right\">2008-04-01 07:10  </td><td align=\"right\"> 31K</td><td> </td></tr>\n",
       "<tr><td valign=\"top\"> </td><td><a href=\"noitargetni.pdf\">noitargetni.pdf</a> </td><td align=\"right\">2008-04-01 07:10  </td><td align=\"right\"> 23K</td><td> </td></tr>\n",
       "<tr><td valign=\"top\"> </td><td><a href=\"paper.pdf\">paper.pdf</a> </td><td align=\"right\">2008-04-01 07:10  </td><td align=\"right\"> 24K</td><td> </td></tr>\n",
       "<tr><td valign=\"top\"> </td><td><a href=\"round_two.html\">round_two.html</a> </td><td align=\"right\">2008-04-01 07:11  </td><td align=\"right\">2.7K</td><td> </td></tr>\n",
       "<tr><td valign=\"top\"> </td><td><a href=\"scene.pdf\">scene.pdf</a> </td><td align=\"right\">2008-04-01 07:11  </td><td align=\"right\"> 28K</td><td> </td></tr>\n",
       "<tr><td valign=\"top\"> </td><td><a href=\"weather.pdf\">weather.pdf</a> </td><td align=\"right\">2008-04-01 07:11  </td><td align=\"right\"> 10K</td><td> </td></tr>\n",
       "<tr><th colspan=\"5\"><hr/></th></tr>\n",
       "</table>\n",
       "</body></html>"
      ]
     },
     "execution_count": 8,
     "metadata": {},
     "output_type": "execute_result"
    }
   ],
   "source": [
    "soup"
   ]
  },
  {
   "cell_type": "code",
   "execution_count": null,
   "metadata": {},
   "outputs": [],
   "source": []
  }
 ],
 "metadata": {
  "kernelspec": {
   "display_name": "base",
   "language": "python",
   "name": "python3"
  },
  "language_info": {
   "codemirror_mode": {
    "name": "ipython",
    "version": 3
   },
   "file_extension": ".py",
   "mimetype": "text/x-python",
   "name": "python",
   "nbconvert_exporter": "python",
   "pygments_lexer": "ipython3",
   "version": "3.9.12"
  },
  "orig_nbformat": 4,
  "vscode": {
   "interpreter": {
    "hash": "19d1d53a962d236aa061289c2ac16dc8e6d9648c89fe79f459ae9a3493bc67b4"
   }
  }
 },
 "nbformat": 4,
 "nbformat_minor": 2
}
