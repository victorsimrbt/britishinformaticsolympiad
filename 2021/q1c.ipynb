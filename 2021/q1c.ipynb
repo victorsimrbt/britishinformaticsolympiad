{
 "cells": [
  {
   "cell_type": "code",
   "execution_count": 21,
   "metadata": {},
   "outputs": [
    {
     "name": "stdout",
     "output_type": "stream",
     "text": [
      "429\n"
     ]
    }
   ],
   "source": [
    "import itertools\n",
    "import string\n",
    "\n",
    "letters = string.ascii_uppercase\n",
    "\n",
    "output = {\n",
    "    True : \"YES\",\n",
    "    False: \"NO\"\n",
    "}\n",
    "def alpha_after(string_1,string_2):\n",
    "    idx_1 = [letters.index(char) for char in string_1]\n",
    "    idx_2 = [letters.index(char) for char in string_2]\n",
    "    \n",
    "    return max(idx_1) < min(idx_2)\n",
    "\n",
    "def is_pat(string):\n",
    "    if len(string) ==  1:\n",
    "        # print(\"ONE\")\n",
    "        return True\n",
    "    for i in range(1,len(string)):\n",
    "        left = string[:i]\n",
    "        right = string[i:]\n",
    "        # print(left,right,alpha_after(right,left))\n",
    "        if (is_pat(''.join(reversed(left))) and \n",
    "            is_pat(''.join(reversed(right))) and \n",
    "            alpha_after(right,left)):\n",
    "            return True\n",
    "    return False\n",
    "\n",
    "pats = []\n",
    "counter = 0\n",
    "for config in itertools.permutations(\"ABCDEFGH\"):\n",
    "    # print(''.join(config))\n",
    "    if is_pat(''.join(config)):\n",
    "        # print(\"YAH\",''.join(config))\n",
    "        pats.append(''.join(config))\n",
    "        counter += 1\n",
    "print(counter)\n",
    "    \n",
    "first_letter = {char:0 for char in letters}\n",
    "for string in pats:\n",
    "    start = string[0]\n",
    "    first_letter[start] += 1"
   ]
  },
  {
   "cell_type": "code",
   "execution_count": null,
   "metadata": {},
   "outputs": [],
   "source": []
  }
 ],
 "metadata": {
  "kernelspec": {
   "display_name": "base",
   "language": "python",
   "name": "python3"
  },
  "language_info": {
   "codemirror_mode": {
    "name": "ipython",
    "version": 3
   },
   "file_extension": ".py",
   "mimetype": "text/x-python",
   "name": "python",
   "nbconvert_exporter": "python",
   "pygments_lexer": "ipython3",
   "version": "3.8.15 (default, Nov 24 2022, 14:38:14) [MSC v.1916 64 bit (AMD64)]"
  },
  "orig_nbformat": 4,
  "vscode": {
   "interpreter": {
    "hash": "62ca328bea2807fdbcf0772dec5911af88ca03e1e8ae5bac692e27b455f5f738"
   }
  }
 },
 "nbformat": 4,
 "nbformat_minor": 2
}
