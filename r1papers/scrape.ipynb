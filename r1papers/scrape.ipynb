{
 "cells": [
  {
   "cell_type": "code",
   "execution_count": 2,
   "metadata": {},
   "outputs": [],
   "source": [
    "import requests\n",
    "years = [str(2007+i) for i in range(16)]\n",
    "BASE_ENDPOINT = \"https://www.olympiad.org.uk/papers/2018/bio/bio18-exam.pdf\"\n",
    "\n",
    "def format_endpoint(year,paper_type):\n",
    "    year_end = year[-2:]\n",
    "    return \"https://www.olympiad.org.uk/papers/{}/bio/bio{}-{}.pdf\".format(year,year_end,paper_type)\n",
    "\n",
    "endpoint = format_endpoint(\"2009\",\"marks\")\n",
    "for year in years:\n",
    "    r = requests.get(format_endpoint(year,\"exam\"))\n",
    "    with open(year+'qp.pdf', 'wb') as f:\n",
    "        f.write(r.content)\n",
    "    r = requests.get(format_endpoint(year,\"marks\"))\n",
    "    with open(year+'ms.pdf', 'wb') as f:\n",
    "        f.write(r.content)\n",
    "r = requests.get(endpoint)"
   ]
  },
  {
   "cell_type": "code",
   "execution_count": null,
   "metadata": {},
   "outputs": [],
   "source": []
  }
 ],
 "metadata": {
  "kernelspec": {
   "display_name": "base",
   "language": "python",
   "name": "python3"
  },
  "language_info": {
   "codemirror_mode": {
    "name": "ipython",
    "version": 3
   },
   "file_extension": ".py",
   "mimetype": "text/x-python",
   "name": "python",
   "nbconvert_exporter": "python",
   "pygments_lexer": "ipython3",
   "version": "3.9.12"
  },
  "orig_nbformat": 4,
  "vscode": {
   "interpreter": {
    "hash": "19d1d53a962d236aa061289c2ac16dc8e6d9648c89fe79f459ae9a3493bc67b4"
   }
  }
 },
 "nbformat": 4,
 "nbformat_minor": 2
}
