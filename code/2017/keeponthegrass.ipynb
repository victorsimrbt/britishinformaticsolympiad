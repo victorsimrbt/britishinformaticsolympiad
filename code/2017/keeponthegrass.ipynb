{
 "cells": [
  {
   "cell_type": "code",
   "execution_count": 24,
   "metadata": {},
   "outputs": [],
   "source": [
    "def diamond_width(n):\n",
    "    if n == 0:\n",
    "        return 1\n",
    "    if n < 0:\n",
    "        return 0\n",
    "    return diamond_width(n-1)*2+1\n",
    "\n",
    "def locate_quad(coord,centre):\n",
    "    new_coord = coord[:]\n",
    "    new_coord[0] -= centre[0]\n",
    "    new_coord[1] -= centre[1]\n",
    "    x,y = new_coord\n",
    "    if y < x and y > -x:\n",
    "        return \"R\"\n",
    "    if y > x and y < -x:\n",
    "        return \"L\"\n",
    "    if y > x and y > -x:\n",
    "        return \"U\"\n",
    "    if y < x and y < -x:\n",
    "        return \"D\"\n",
    "    \n",
    "def find_quad(coord,centre,n):\n",
    "    width = round((diamond_width(n)-1)/2/2)\n",
    "    quad = locate_quad(coord,centre)\n",
    "    new_centre = centre\n",
    "    if quad == \"R\":\n",
    "        new_centre = [centre[0]+width,centre[1]]\n",
    "    if quad == \"L\":\n",
    "        new_centre = [centre[0]-width,centre[1]]\n",
    "    if quad == \"U\":\n",
    "        new_centre = [centre[0],centre[1]+width]\n",
    "    if quad == \"D\":\n",
    "        new_centre = [centre[0],centre[1]-width]\n",
    "    return new_centre,quad\n",
    "    \n"
   ]
  },
  {
   "cell_type": "code",
   "execution_count": 25,
   "metadata": {},
   "outputs": [],
   "source": [
    "import numpy as np\n",
    "move_dict = {\n",
    "    \"R\" : np.array([-1,0]),\n",
    "    \"L\" : np.array([1,0]),\n",
    "    \"D\" : np.array([0,1]),\n",
    "    \"U\" : np.array([0,-1])\n",
    "}"
   ]
  },
  {
   "cell_type": "code",
   "execution_count": 26,
   "metadata": {},
   "outputs": [],
   "source": [
    "import numpy as np\n",
    "move = {\n",
    "    \"R\" : np.array([1,0]),\n",
    "    \"L\" : np.array([-1,0]),\n",
    "    \"D\" : np.array([0,-1]),\n",
    "    \"U\" : np.array([0,1])\n",
    "}\n",
    "opposites = {\n",
    "    \"U\" : \"D\",\n",
    "    \"D\" : \"U\",\n",
    "    \"L\" : \"R\",\n",
    "    \"R\" : \"L\"\n",
    "}"
   ]
  },
  {
   "cell_type": "code",
   "execution_count": 106,
   "metadata": {},
   "outputs": [
    {
     "name": "stdout",
     "output_type": "stream",
     "text": [
      "131072 [131072, 0] R 18\n",
      "65536 [65536, 0] L 17\n",
      "32768 [32768, 0] L 16\n",
      "16384 [16384, 0] L 15\n",
      "8192 [8192, 0] L 14\n",
      "4096 [4096, 0] L 13\n",
      "2048 [2048, 0] L 12\n",
      "1024 [1024, 0] L 11\n",
      "512 [512, 0] L 10\n",
      "256 [256, 0] L 9\n",
      "128 [128, 0] L 8\n",
      "64 [64, 0] L 7\n",
      "32 [32, 0] L 6\n",
      "16 [16, 0] L 5\n",
      "8 [8, 0] L 4\n",
      "4 [4, 0] L 3\n",
      "2 [2, 0] L 2\n",
      "1 [2, 0] U 1\n",
      "[131072      0]\n",
      "[65536     0]\n",
      "[32768     0]\n",
      "[16384     0]\n",
      "[8192    0]\n",
      "[4096    0]\n",
      "[2048    0]\n",
      "[1024    0]\n",
      "[512   0]\n",
      "[256   0]\n",
      "[128   0]\n",
      "[64  0]\n",
      "[32  0]\n",
      "[16  0]\n",
      "[8 0]\n",
      "[4 0]\n",
      "[2 0]\n",
      "POSITION REACHED!\n"
     ]
    },
    {
     "data": {
      "text/plain": [
       "262144"
      ]
     },
     "execution_count": 106,
     "metadata": {},
     "output_type": "execute_result"
    }
   ],
   "source": [
    "import math\n",
    "\n",
    "quads = []\n",
    "distances = []\n",
    "n = 18\n",
    "centre = [0,0]\n",
    "\n",
    "target = [2,1]\n",
    "\n",
    "while n > 0:\n",
    "    distance = math.ceil((diamond_width(n)-1)/2/2)\n",
    "    centre,quad = find_quad(target,centre,n)\n",
    "    print(distance,centre,quad,n)\n",
    "    quads.append(quad)\n",
    "    distances.append(distance)\n",
    "    n-= 1\n",
    "\n",
    "squares = 1\n",
    "position = [0,0]\n",
    "for i in range(len(quads)):\n",
    "    for _ in range(distances[i]):\n",
    "        position += move[quads[i]]\n",
    "        squares += 1\n",
    "        if list(position) == target:\n",
    "            print(\"POSITION REACHED!\")\n",
    "            break\n",
    "    if list(position) == target:\n",
    "        break\n",
    "    print(position)\n",
    "squares"
   ]
  },
  {
   "cell_type": "code",
   "execution_count": 131,
   "metadata": {},
   "outputs": [
    {
     "data": {
      "text/plain": [
       "6"
      ]
     },
     "execution_count": 131,
     "metadata": {},
     "output_type": "execute_result"
    }
   ],
   "source": [
    "import math\n",
    "\n",
    "quads = []\n",
    "distances = []\n",
    "n = 3\n",
    "centre = [0,0]\n",
    "\n",
    "target = [4,1]\n",
    "\n",
    "while n > 0:\n",
    "    distance = math.ceil((diamond_width(n)-1)/2/2)\n",
    "    centre,quad = find_quad(target,centre,n)\n",
    "    #print(distance,centre,quad,n)\n",
    "    if not(quad):\n",
    "        break\n",
    "    quads.append(quad)\n",
    "    distances.append(distance)\n",
    "    n-= 1\n",
    "    \n",
    "all_moves = [move[quads[i]]*distances[i] for i in range(len(quads))]\n",
    "final_moves = []\n",
    "sum(all_moves[:16])\n",
    "\n",
    "temp = []\n",
    "if all_moves:\n",
    "    last_move = all_moves[0]\n",
    "    for i in range(len(all_moves)):\n",
    "        if not(((last_move + all_moves[i]) == 0).any()):\n",
    "            #print(last_move,all_moves[i],temp)\n",
    "            final_moves.append(sum(temp))\n",
    "            temp = []\n",
    "        temp.append(all_moves[i])\n",
    "        last_move = all_moves[i]\n",
    "    #print(all_moves)\n",
    "    if ((last_move + all_moves[i]) == 0).any():\n",
    "        final_moves.append(sum(temp))\n",
    "        temp = []\n",
    "    else:  \n",
    "        final_moves += temp\n",
    "#print(final_moves)\n",
    "\n",
    "squares = 1\n",
    "for i in range(len(final_moves)):\n",
    "    squares += sum(abs(final_moves[i]))\n",
    "squares"
   ]
  },
  {
   "cell_type": "code",
   "execution_count": 113,
   "metadata": {},
   "outputs": [
    {
     "name": "stdout",
     "output_type": "stream",
     "text": [
      "[2 0]\n",
      "[0 1]\n"
     ]
    },
    {
     "data": {
      "text/plain": [
       "4"
      ]
     },
     "execution_count": 113,
     "metadata": {},
     "output_type": "execute_result"
    }
   ],
   "source": [
    "\n",
    "squares = 1\n",
    "for i in range(len(final_moves)):\n",
    "    squares += sum(abs(final_moves[i]))\n",
    "squares"
   ]
  },
  {
   "cell_type": "code",
   "execution_count": 81,
   "metadata": {},
   "outputs": [
    {
     "name": "stdout",
     "output_type": "stream",
     "text": [
      "CONFLICT\n"
     ]
    }
   ],
   "source": [
    "for i in range(len(quads)-1):\n",
    "    if opposites[quads[i+1]] == quads[i]:\n",
    "        print(\"CONFLICT\")\n",
    "        distances[i] -= distances[i+1]\n",
    "        distances[i+1] = 0"
   ]
  },
  {
   "cell_type": "code",
   "execution_count": 82,
   "metadata": {},
   "outputs": [
    {
     "data": {
      "text/plain": [
       "([2, 0, 1], ['R', 'L', 'U'])"
      ]
     },
     "execution_count": 82,
     "metadata": {},
     "output_type": "execute_result"
    }
   ],
   "source": [
    "distances,quads"
   ]
  },
  {
   "cell_type": "code",
   "execution_count": 83,
   "metadata": {},
   "outputs": [
    {
     "name": "stdout",
     "output_type": "stream",
     "text": [
      "[2 0]\n",
      "[2 0]\n",
      "POSITION REACHED!\n"
     ]
    },
    {
     "data": {
      "text/plain": [
       "4"
      ]
     },
     "execution_count": 83,
     "metadata": {},
     "output_type": "execute_result"
    }
   ],
   "source": [
    "squares = 1\n",
    "position = [0,0]\n",
    "for i in range(len(quads)):\n",
    "    for _ in range(distances[i]):\n",
    "        position += move[quads[i]]\n",
    "        squares += 1\n",
    "        if list(position) == target:\n",
    "            print(\"POSITION REACHED!\")\n",
    "            break\n",
    "    if list(position) == target:\n",
    "        break\n",
    "    print(position)\n",
    "squares"
   ]
  },
  {
   "cell_type": "code",
   "execution_count": 40,
   "metadata": {},
   "outputs": [
    {
     "data": {
      "text/plain": [
       "7"
      ]
     },
     "execution_count": 40,
     "metadata": {},
     "output_type": "execute_result"
    }
   ],
   "source": [
    "squares"
   ]
  },
  {
   "cell_type": "code",
   "execution_count": 38,
   "metadata": {},
   "outputs": [
    {
     "data": {
      "text/plain": [
       "True"
      ]
     },
     "execution_count": 38,
     "metadata": {},
     "output_type": "execute_result"
    }
   ],
   "source": [
    "[3,2] == [3,2]"
   ]
  },
  {
   "cell_type": "code",
   "execution_count": 44,
   "metadata": {},
   "outputs": [
    {
     "data": {
      "text/plain": [
       "0"
      ]
     },
     "execution_count": 44,
     "metadata": {},
     "output_type": "execute_result"
    }
   ],
   "source": [
    "round((diamond_width(1)-1)/2/2)"
   ]
  },
  {
   "cell_type": "code",
   "execution_count": 23,
   "metadata": {},
   "outputs": [
    {
     "data": {
      "text/plain": [
       "4"
      ]
     },
     "execution_count": 23,
     "metadata": {},
     "output_type": "execute_result"
    }
   ],
   "source": [
    "round((diamond_width(3)-1)/2/2)"
   ]
  },
  {
   "cell_type": "code",
   "execution_count": null,
   "metadata": {},
   "outputs": [],
   "source": []
  }
 ],
 "metadata": {
  "kernelspec": {
   "display_name": "Python 3.9.12 ('base')",
   "language": "python",
   "name": "python3"
  },
  "language_info": {
   "codemirror_mode": {
    "name": "ipython",
    "version": 3
   },
   "file_extension": ".py",
   "mimetype": "text/x-python",
   "name": "python",
   "nbconvert_exporter": "python",
   "pygments_lexer": "ipython3",
   "version": "3.9.12"
  },
  "orig_nbformat": 4,
  "vscode": {
   "interpreter": {
    "hash": "19d1d53a962d236aa061289c2ac16dc8e6d9648c89fe79f459ae9a3493bc67b4"
   }
  }
 },
 "nbformat": 4,
 "nbformat_minor": 2
}
