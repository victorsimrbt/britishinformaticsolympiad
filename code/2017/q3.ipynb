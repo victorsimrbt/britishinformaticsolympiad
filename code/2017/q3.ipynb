{
 "cells": [
  {
   "cell_type": "code",
   "execution_count": 35,
   "metadata": {},
   "outputs": [
    {
     "name": "stdout",
     "output_type": "stream",
     "text": [
      "[[0, 1, 7, 6, 0], [1, 2, 8, 7, 0], [2, 3, 9, 8, 0], [3, 4, 10, 9, 0], [4, 5, 11, 10, 0], [6, 7, 13, 12, 0], [7, 8, 14, 13, 0], [8, 9, 15, 14, 0], [9, 10, 16, 15, 0], [10, 11, 17, 16, 0], [12, 13, 19, 18, 0], [13, 14, 20, 19, 0], [14, 15, 21, 20, 0], [15, 16, 22, 21, 0], [16, 17, 23, 22, 0], [18, 19, 25, 24, 0], [19, 20, 26, 25, 0], [20, 21, 27, 26, 0], [21, 22, 28, 27, 0], [22, 23, 29, 28, 0], [24, 25, 31, 30, 0], [25, 26, 32, 31, 0], [26, 27, 33, 32, 0], [27, 28, 34, 33, 0], [28, 29, 35, 34, 0]]\n"
     ]
    }
   ],
   "source": [
    "edges = [[0]*36 for _ in range(36)]\n",
    "markers = ['*','X','O']\n",
    "squares = []\n",
    "for left in range(30):\n",
    "\tif ((left+1) % 6 != 0 or left == 0):\n",
    " \t\tsquares.append([left,left+1,left+7,left+6,0])\n",
    "print(squares)"
   ]
  },
  {
   "cell_type": "code",
   "execution_count": 36,
   "metadata": {},
   "outputs": [],
   "source": [
    "def neighbors(dot):\n",
    "\tans = []\n",
    "\tif (dot >= 6):\n",
    "\t\tans.append(dot - 6)\n",
    "\tif (dot % 6 != 5):\n",
    "\t\tans.append(dot+1)\n",
    "\tif (dot < 30):\n",
    "\t\tans.append(dot + 6)\n",
    "\tif (dot % 6 != 0 and dot != 0):\n",
    "\t\tans.append(dot-1)\n",
    "\treturn ans"
   ]
  },
  {
   "cell_type": "code",
   "execution_count": 37,
   "metadata": {},
   "outputs": [
    {
     "data": {
      "text/plain": [
       "[23, 35, 28]"
      ]
     },
     "execution_count": 37,
     "metadata": {},
     "output_type": "execute_result"
    }
   ],
   "source": [
    "neighbors(29)"
   ]
  },
  {
   "cell_type": "code",
   "execution_count": 38,
   "metadata": {},
   "outputs": [],
   "source": [
    "def play(player, pos, mod):\n",
    "    # make sure next_player is set correctly before return\n",
    "    next_player = 3-player\n",
    "    pos = (pos + mod) % 36\n",
    "    \n",
    "    while True:\n",
    "        #print(pts,pos)\n",
    "        pts = neighbors(pos)\n",
    "        if player == 2:\n",
    "            pts = list(reversed(pts))\n",
    "        for pt in pts:\n",
    "            if not(edges[pos][pt]):\n",
    "                edges[pos][pt] = 1\n",
    "                edges[pt][pos] = 1\n",
    "                for square in squares:\n",
    "                    if (edges[square[0]][square[1]] and \n",
    "                            edges[square[1]][square[2]]and\n",
    "                            edges[square[2]][square[3]] and\n",
    "                            edges[square[3]][square[0]] and square[4] == 0):\n",
    "                        print(\"SQUARE\",square)\n",
    "                        next_player = player\n",
    "                        square[4] = player\n",
    "                print(\"EDGE\",pos,pt)\n",
    "                return pos, next_player\n",
    "        pos = (pos+1)%36\n",
    "        print(\"increment\")"
   ]
  },
  {
   "cell_type": "code",
   "execution_count": 40,
   "metadata": {},
   "outputs": [
    {
     "name": "stdout",
     "output_type": "stream",
     "text": [
      "0 1 35 35\n",
      "EDGE 0 1\n",
      "1 2 0 35\n",
      "EDGE 0 6\n",
      "2 1 0 0\n",
      "EDGE 1 2\n",
      "3 2 1 0\n",
      "EDGE 1 7\n",
      "4 1 1 1\n",
      "EDGE 2 3\n",
      "5 2 2 1\n",
      "EDGE 2 8\n",
      "6 1 2 2\n",
      "EDGE 3 4\n",
      "7 2 3 2\n",
      "EDGE 3 9\n",
      "8 1 3 3\n",
      "EDGE 4 5\n",
      "9 2 4 3\n",
      "EDGE 4 10\n",
      "10 1 4 4\n",
      "EDGE 5 11\n",
      "11 2 5 4\n",
      "increment\n",
      "EDGE 6 12\n",
      "12 1 5 6\n",
      "SQUARE [0, 1, 7, 6, 0]\n",
      "EDGE 6 7\n",
      "13 1 6 6\n",
      "SQUARE [1, 2, 8, 7, 0]\n",
      "EDGE 7 8\n",
      "14 1 7 6\n",
      "SQUARE [2, 3, 9, 8, 0]\n",
      "EDGE 8 9\n",
      "15 1 8 6\n",
      "SQUARE [3, 4, 10, 9, 0]\n",
      "EDGE 9 10\n",
      "16 1 9 6\n",
      "SQUARE [4, 5, 11, 10, 0]\n",
      "EDGE 10 11\n",
      "17 1 10 6\n",
      "EDGE 11 17\n",
      "18 2 11 6\n",
      "EDGE 7 13\n",
      "19 1 11 7\n",
      "SQUARE [6, 7, 13, 12, 0]\n",
      "EDGE 12 13\n",
      "20 1 12 7\n",
      "EDGE 13 14\n",
      "21 2 13 7\n",
      "SQUARE [7, 8, 14, 13, 0]\n",
      "EDGE 8 14\n",
      "X X X X X \n",
      "X O * * * \n",
      "* * * * * \n",
      "* * * * * \n",
      "* * * * * \n",
      "6 1\n"
     ]
    }
   ],
   "source": [
    "edges = [[0]*36 for _ in range(36)]\n",
    "squares = []\n",
    "for left in range(30):\n",
    "\tif ((left+1) % 6 != 0 or left == 0):\n",
    " \t\tsquares.append([left,left+1,left+7,left+6,0])\n",
    "p1,m1,p2,m2,t = [int(val) for val in input().split()]\n",
    "p1 -= 1\n",
    "p2 -= 1\n",
    "turn = 1\n",
    "for i in range(t):\n",
    "    print(i,turn,p1,p2)\n",
    "    if turn == 1:\n",
    "        p1, turn = play(1, p1, m1)\t\n",
    "    else:\n",
    "        p2, turn = play(2, p2, m2)\n",
    "        \n",
    "for i in range(5):\n",
    "    print_string = ''\n",
    "    for x in range(5):\n",
    "        print_string += markers[squares[i*5+x][4]] + ' '\n",
    "    print(print_string)\n",
    "\n",
    "p1_squares = [square for square in squares if square[4] == 1]\n",
    "p2_squares = [square for square in squares if square[4] == 2]\n",
    "print(len(p1_squares),len(p2_squares))"
   ]
  },
  {
   "cell_type": "code",
   "execution_count": 1,
   "metadata": {},
   "outputs": [
    {
     "ename": "NameError",
     "evalue": "name 'edges' is not defined",
     "output_type": "error",
     "traceback": [
      "\u001b[1;31m---------------------------------------------------------------------------\u001b[0m",
      "\u001b[1;31mNameError\u001b[0m                                 Traceback (most recent call last)",
      "\u001b[1;32mc:\\Users\\victo\\Desktop\\Files\\Tech\\Code\\Competitive\\BIO\\2017\\q3.ipynb Cell 5\u001b[0m in \u001b[0;36m<cell line: 1>\u001b[1;34m()\u001b[0m\n\u001b[1;32m----> <a href='vscode-notebook-cell:/c%3A/Users/victo/Desktop/Files/Tech/Code/Competitive/BIO/2017/q3.ipynb#W5sZmlsZQ%3D%3D?line=0'>1</a>\u001b[0m edges\n",
      "\u001b[1;31mNameError\u001b[0m: name 'edges' is not defined"
     ]
    }
   ],
   "source": [
    "edges"
   ]
  },
  {
   "cell_type": "code",
   "execution_count": null,
   "metadata": {},
   "outputs": [],
   "source": []
  }
 ],
 "metadata": {
  "kernelspec": {
   "display_name": "base",
   "language": "python",
   "name": "python3"
  },
  "language_info": {
   "codemirror_mode": {
    "name": "ipython",
    "version": 3
   },
   "file_extension": ".py",
   "mimetype": "text/x-python",
   "name": "python",
   "nbconvert_exporter": "python",
   "pygments_lexer": "ipython3",
   "version": "3.9.12"
  },
  "orig_nbformat": 4,
  "vscode": {
   "interpreter": {
    "hash": "19d1d53a962d236aa061289c2ac16dc8e6d9648c89fe79f459ae9a3493bc67b4"
   }
  }
 },
 "nbformat": 4,
 "nbformat_minor": 2
}
