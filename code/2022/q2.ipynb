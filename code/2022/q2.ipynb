{
 "cells": [
  {
   "cell_type": "code",
   "execution_count": 5,
   "metadata": {},
   "outputs": [
    {
     "data": {
      "text/plain": [
       "[[[], [], [], [], [], []],\n",
       " [[], [], [], [], [], []],\n",
       " [[], [], [], [], [], []],\n",
       " [[], [], [], [], [], []],\n",
       " [[], [], [], [], [], []],\n",
       " [[], [], [], [], [], []],\n",
       " [[], [], [], [], [], []],\n",
       " [[], [], [], [], [], []],\n",
       " [[], [], [], [], [], []],\n",
       " [[], [], [], [], [], []],\n",
       " [[], [], [], [], [], []],\n",
       " [[], [], [], [], [], []],\n",
       " [[], [], [], [], [], []],\n",
       " [[], [], [], [], [], []],\n",
       " [[], [], [], [], [], []],\n",
       " [[], [], [], [], [], []],\n",
       " [[], [], [], [], [], []],\n",
       " [[], [], [], [], [], []],\n",
       " [[], [], [], [], [], []],\n",
       " [[], [], [], [], [], []],\n",
       " [[], [], [], [], [], []],\n",
       " [[], [], [], [], [], []],\n",
       " [[], [], [], [], [], []],\n",
       " [[], [], [], [], [], []],\n",
       " [[], [], [], [], [], []],\n",
       " [[], [], [], [], [], []]]"
      ]
     },
     "execution_count": 5,
     "metadata": {},
     "output_type": "execute_result"
    }
   ],
   "source": [
    "edges = [[[]]*6]*26\n",
    "edges"
   ]
  },
  {
   "cell_type": "code",
   "execution_count": null,
   "metadata": {},
   "outputs": [],
   "source": []
  }
 ],
 "metadata": {
  "kernelspec": {
   "display_name": "base",
   "language": "python",
   "name": "python3"
  },
  "language_info": {
   "codemirror_mode": {
    "name": "ipython",
    "version": 3
   },
   "file_extension": ".py",
   "mimetype": "text/x-python",
   "name": "python",
   "nbconvert_exporter": "python",
   "pygments_lexer": "ipython3",
   "version": "3.8.3 (default, May 19 2020, 06:50:17) [MSC v.1916 64 bit (AMD64)]"
  },
  "orig_nbformat": 4,
  "vscode": {
   "interpreter": {
    "hash": "62ca328bea2807fdbcf0772dec5911af88ca03e1e8ae5bac692e27b455f5f738"
   }
  }
 },
 "nbformat": 4,
 "nbformat_minor": 2
}
