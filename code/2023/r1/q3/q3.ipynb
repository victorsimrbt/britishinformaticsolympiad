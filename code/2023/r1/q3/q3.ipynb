{
 "cells": [
  {
   "cell_type": "code",
   "execution_count": 37,
   "metadata": {},
   "outputs": [
    {
     "name": "stdout",
     "output_type": "stream",
     "text": [
      "3\n",
      "3\n",
      "3\n",
      "3\n",
      "3\n",
      "3\n",
      "3\n",
      "3\n",
      "3\n",
      "3\n",
      "3\n",
      "3\n"
     ]
    },
    {
     "ename": "",
     "evalue": "",
     "output_type": "error",
     "traceback": [
      "\u001b[1;31mThe Kernel crashed while executing code in the the current cell or a previous cell. Please review the code in the cell(s) to identify a possible cause of the failure. Click <a href='https://aka.ms/vscodeJupyterKernelCrash'>here</a> for more info. View Jupyter <a href='command:jupyter.viewOutput'>log</a> for further details."
     ]
    }
   ],
   "source": [
    "import copy\n",
    "def move(stacks,stack_1,stack_2):\n",
    "    # move from stack_1 to stack_2\n",
    "    if stacks[stack_1]:\n",
    "        top_ball = stacks[stack_1].pop()\n",
    "        stacks[stack_2].append(top_ball)\n",
    "    return stacks\n",
    "\n",
    "def state2str(stacks):\n",
    "    string = ''\n",
    "    for stack in stacks:\n",
    "        if stack:\n",
    "            string += ''.join([str(char) for char in stack])\n",
    "        else:\n",
    "            string += \"0\"\n",
    "        string += \" \"\n",
    "    return string[:-1]\n",
    "\n",
    "def str2state(string):\n",
    "    stacks = []\n",
    "    for stack in string.split():\n",
    "        if stack == \"0\":\n",
    "            stacks.append([])\n",
    "        else:\n",
    "            stacks.append([char for char in stack])\n",
    "    return stacks\n",
    "\n",
    "def generate_neighbors(stacks):\n",
    "    neighbors = []\n",
    "    for stack_1 in range(4):\n",
    "        for stack_2 in range(4):\n",
    "            if stack_1 != stack_2:\n",
    "                neighbors.append(move(copy.deepcopy(stacks),stack_1,stack_2))\n",
    "    return neighbors\n",
    "\n",
    "dist = {}\n",
    "\n",
    "root = \"12 0 3 4\"\n",
    "target = \"1 32 4 0\"\n",
    "\n",
    "dist[root] = 0\n",
    "root = str2state(root)\n",
    "queue = [root]\n",
    "head = 0\n",
    "\n",
    "while head < len(queue):\n",
    "    last = queue[head]\n",
    "    last_string = state2str(last)\n",
    "    neighbors = generate_neighbors(last)\n",
    "    head += 1\n",
    "    for neighbor in neighbors:\n",
    "        string = state2str(neighbor)\n",
    "        if not(string in dist):\n",
    "            dist[string] = dist[last_string] + 1\n",
    "            queue.append(neighbor)\n",
    "        if string == target:\n",
    "            print(dist[string])\n",
    "            exit()\n"
   ]
  },
  {
   "cell_type": "code",
   "execution_count": 8,
   "metadata": {},
   "outputs": [
    {
     "data": {
      "text/plain": [
       "12"
      ]
     },
     "execution_count": 8,
     "metadata": {},
     "output_type": "execute_result"
    }
   ],
   "source": [
    "from itertools import permutations\n",
    "len(set(list(permutations(\"2110\"))))"
   ]
  },
  {
   "cell_type": "code",
   "execution_count": 33,
   "metadata": {},
   "outputs": [
    {
     "ename": "IndexError",
     "evalue": "pop from empty list",
     "output_type": "error",
     "traceback": [
      "\u001b[1;31m---------------------------------------------------------------------------\u001b[0m",
      "\u001b[1;31mIndexError\u001b[0m                                Traceback (most recent call last)",
      "Cell \u001b[1;32mIn[33], line 1\u001b[0m\n\u001b[1;32m----> 1\u001b[0m neighbors \u001b[39m=\u001b[39m generate_neighbors(last)\n",
      "Cell \u001b[1;32mIn[32], line 33\u001b[0m, in \u001b[0;36mgenerate_neighbors\u001b[1;34m(stacks)\u001b[0m\n\u001b[0;32m     31\u001b[0m     \u001b[39mfor\u001b[39;00m stack_2 \u001b[39min\u001b[39;00m \u001b[39mrange\u001b[39m(\u001b[39m4\u001b[39m):\n\u001b[0;32m     32\u001b[0m         \u001b[39mif\u001b[39;00m stack_1 \u001b[39m!=\u001b[39m stack_2:\n\u001b[1;32m---> 33\u001b[0m             neighbors\u001b[39m.\u001b[39mappend(move(copy\u001b[39m.\u001b[39;49mdeepcopy(stacks),stack_1,stack_2))\n\u001b[0;32m     34\u001b[0m \u001b[39mreturn\u001b[39;00m neighbors\n",
      "Cell \u001b[1;32mIn[32], line 5\u001b[0m, in \u001b[0;36mmove\u001b[1;34m(stacks, stack_1, stack_2)\u001b[0m\n\u001b[0;32m      2\u001b[0m \u001b[39mdef\u001b[39;00m \u001b[39mmove\u001b[39m(stacks,stack_1,stack_2):\n\u001b[0;32m      3\u001b[0m     \u001b[39m# move from stack_1 to stack_2\u001b[39;00m\n\u001b[0;32m      4\u001b[0m     \u001b[39mif\u001b[39;00m stack_1:\n\u001b[1;32m----> 5\u001b[0m         top_ball \u001b[39m=\u001b[39m stacks[stack_1]\u001b[39m.\u001b[39;49mpop()\n\u001b[0;32m      6\u001b[0m         stacks[stack_2]\u001b[39m.\u001b[39mappend(top_ball)\n\u001b[0;32m      7\u001b[0m     \u001b[39mreturn\u001b[39;00m stacks\n",
      "\u001b[1;31mIndexError\u001b[0m: pop from empty list"
     ]
    }
   ],
   "source": [
    "neighbors = generate_neighbors(last)"
   ]
  },
  {
   "cell_type": "code",
   "execution_count": 26,
   "metadata": {},
   "outputs": [
    {
     "name": "stdout",
     "output_type": "stream",
     "text": [
      "0 0\n",
      "0 1\n",
      "[[1], [2], [3], [4]] [[1], [2], [3], [4]]\n",
      "0 2\n",
      "[[1], [2], [3], [4]] [[1], [2], [3], [4]]\n",
      "0 3\n",
      "[[1], [2], [3], [4]] [[1], [2], [3], [4]]\n",
      "1 0\n",
      "[[1, 2], [], [3], [4]] [[1], [2], [3], [4]]\n",
      "1 1\n",
      "1 2\n",
      "[[1], [], [3, 2], [4]] [[1], [2], [3], [4]]\n",
      "1 3\n",
      "[[1], [], [3], [4, 2]] [[1], [2], [3], [4]]\n",
      "2 0\n",
      "[[1, 3], [2], [], [4]] [[1], [2], [3], [4]]\n",
      "2 1\n",
      "[[1], [2, 3], [], [4]] [[1], [2], [3], [4]]\n",
      "2 2\n",
      "2 3\n",
      "[[1], [2], [], [4, 3]] [[1], [2], [3], [4]]\n",
      "3 0\n",
      "[[1, 4], [2], [3], []] [[1], [2], [3], [4]]\n",
      "3 1\n",
      "[[1], [2, 4], [3], []] [[1], [2], [3], [4]]\n",
      "3 2\n",
      "[[1], [2], [3, 4], []] [[1], [2], [3], [4]]\n",
      "3 3\n"
     ]
    }
   ],
   "source": [
    "import copy\n",
    "stacks = [[1],[2],[3],[4]]\n",
    "neighbors = []\n",
    "for stack_1 in range(4):\n",
    "    for stack_2 in range(4):\n",
    "        print(stack_1,stack_2)\n",
    "        if stack_1 != stack_2:\n",
    "            print(move(copy.deepcopy(stacks),stack_1,stack_2),stacks)"
   ]
  },
  {
   "cell_type": "code",
   "execution_count": null,
   "metadata": {},
   "outputs": [],
   "source": []
  }
 ],
 "metadata": {
  "kernelspec": {
   "display_name": "base",
   "language": "python",
   "name": "python3"
  },
  "language_info": {
   "codemirror_mode": {
    "name": "ipython",
    "version": 3
   },
   "file_extension": ".py",
   "mimetype": "text/x-python",
   "name": "python",
   "nbconvert_exporter": "python",
   "pygments_lexer": "ipython3",
   "version": "3.8.15 (default, Nov 24 2022, 14:38:14) [MSC v.1916 64 bit (AMD64)]"
  },
  "orig_nbformat": 4,
  "vscode": {
   "interpreter": {
    "hash": "62ca328bea2807fdbcf0772dec5911af88ca03e1e8ae5bac692e27b455f5f738"
   }
  }
 },
 "nbformat": 4,
 "nbformat_minor": 2
}
