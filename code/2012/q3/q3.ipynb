{
 "cells": [
  {
   "cell_type": "code",
   "execution_count": 38,
   "metadata": {},
   "outputs": [
    {
     "name": "stdout",
     "output_type": "stream",
     "text": [
      "6\n",
      "6\n",
      "6\n"
     ]
    },
    {
     "data": {
      "text/plain": [
       "3.711346387863159"
      ]
     },
     "execution_count": 38,
     "metadata": {},
     "output_type": "execute_result"
    }
   ],
   "source": [
    "import numpy as np\n",
    "import time\n",
    "digits = [\"ZERO\",\"ONE\", \"TWO\", \"THREE\", \"FOUR\", \"FIVE\", \"SIX\", \"SEVEN\", \"EIGHT\", \"NINE\"]\n",
    "\n",
    "neighbor_memo = {}\n",
    "is_neighbor_memo = {}\n",
    "\n",
    "counter = 0\n",
    "counter_1 = 0\n",
    "unique = ''\n",
    "for digit in digits:\n",
    "    unique += digit\n",
    "unique = set(unique)\n",
    "\n",
    "def num2string(num):\n",
    "    return ''.join([digits[int(instance)] for instance in str(num)])\n",
    "\n",
    "options = [num2string(i) for i in range(1,1000)]\n",
    "\n",
    "def is_neighbour(string_1,string_2):\n",
    "    global counter_1\n",
    "    counter_1 += 1\n",
    "    operations = 0\n",
    "    if (string_1,string_2) in is_neighbor_memo:\n",
    "        return is_neighbor_memo[(string_1,string_2)]\n",
    "    else:\n",
    "        all_values = set(string_1+string_2)\n",
    "        for value in all_values:\n",
    "            operations += abs(string_1.count(value)-string_2.count(value))\n",
    "        if operations > 5:\n",
    "            is_neighbor_memo[(string_1,string_2)] = False\n",
    "            is_neighbor_memo[(string_2,string_1)] = False\n",
    "        else:\n",
    "            is_neighbor_memo[(string_1,string_2)] = True\n",
    "            is_neighbor_memo[(string_2,string_1)] = True\n",
    "        return is_neighbor_memo[(string_1,string_2)]\n",
    "\n",
    "def generate_neighbours(string):\n",
    "    global counter\n",
    "    counter += 1\n",
    "    if string in neighbor_memo:\n",
    "        # print(\"memod\")\n",
    "        return neighbor_memo[string]\n",
    "    else:\n",
    "        neighbor_memo[string] = [option for option in options if abs(len(option)-len(string)) <= 5 and is_neighbour(string,option)]\n",
    "    return neighbor_memo[string]\n",
    "\n",
    "# for option in options:\n",
    "#     generate_neighbours(option)\n",
    "\n",
    "queue = []\n",
    "visited = []\n",
    "\n",
    "def bfs(node,target):\n",
    "    node = num2string(node)\n",
    "    target = num2string(target)\n",
    "    queue = [[node,1]]\n",
    "    end = False\n",
    "    visited = set()\n",
    "    head = 0\n",
    "    while head < len(queue):\n",
    "        string = queue[head][0]\n",
    "        distance = queue[head][1]\n",
    "        head += 1\n",
    "        \n",
    "        neighbours = generate_neighbours(string)\n",
    "        #print(neighbours)\n",
    "        for neighbour in neighbours:\n",
    "            if neighbour not in visited:\n",
    "                queue.append([neighbour,distance+1])\n",
    "                visited.add(neighbour)\n",
    "            if neighbour == target:\n",
    "                print(distance)\n",
    "                end = True\n",
    "                break\n",
    "            \n",
    "        if end == True:\n",
    "            break\n",
    "    # print(queue)\n",
    "params = []\n",
    "for i in range(3):\n",
    "    params.append([int(value) for value in input().split()])\n",
    "\n",
    "for param in params:\n",
    "    bfs(param[0],param[1])"
   ]
  },
  {
   "cell_type": "code",
   "execution_count": 30,
   "metadata": {},
   "outputs": [
    {
     "data": {
      "text/plain": [
       "['ONE',\n",
       " 'TWO',\n",
       " 'FOUR',\n",
       " 'FIVE',\n",
       " 'SEVEN',\n",
       " 'NINE',\n",
       " 'ONEZERO',\n",
       " 'ONEONE',\n",
       " 'ONETWO',\n",
       " 'ONETHREE',\n",
       " 'ONEFOUR',\n",
       " 'ONEFIVE',\n",
       " 'ONESIX',\n",
       " 'ONESEVEN',\n",
       " 'ONEEIGHT',\n",
       " 'ONENINE',\n",
       " 'TWOONE',\n",
       " 'TWOSEVEN',\n",
       " 'TWONINE',\n",
       " 'THREEONE',\n",
       " 'FOURONE',\n",
       " 'FOURNINE',\n",
       " 'FIVEONE',\n",
       " 'SIXONE',\n",
       " 'SEVENONE',\n",
       " 'SEVENTWO',\n",
       " 'EIGHTONE',\n",
       " 'NINEZERO',\n",
       " 'NINEONE',\n",
       " 'NINETWO',\n",
       " 'NINEFOUR']"
      ]
     },
     "execution_count": 30,
     "metadata": {},
     "output_type": "execute_result"
    }
   ],
   "source": [
    "generate_neighbours(\"ONE\")"
   ]
  },
  {
   "cell_type": "code",
   "execution_count": 20,
   "metadata": {},
   "outputs": [
    {
     "data": {
      "text/plain": [
       "921"
      ]
     },
     "execution_count": 20,
     "metadata": {},
     "output_type": "execute_result"
    }
   ],
   "source": [
    "counter"
   ]
  },
  {
   "cell_type": "code",
   "execution_count": null,
   "metadata": {},
   "outputs": [],
   "source": [
    "def changes(string_1,string_2):\n",
    "    operations = 0\n",
    "    all_values = set(string_1+string_2)\n",
    "    for value in all_values:\n",
    "        operations += abs(string_1.count(value)-string_2.count(value)))\n",
    "    return operations"
   ]
  },
  {
   "cell_type": "code",
   "execution_count": 13,
   "metadata": {},
   "outputs": [],
   "source": [
    "diff = {}\n",
    "\n",
    "for i in range(10):\n",
    "    diff[i] = [changes(num2string(i),num2string(x)) for x in range(10)]\n"
   ]
  },
  {
   "cell_type": "code",
   "execution_count": 12,
   "metadata": {},
   "outputs": [],
   "source": [
    "def gen_neighbors(string):\n",
    "    for i in range(10):\n",
    "        print(diff[])\n"
   ]
  },
  {
   "cell_type": "code",
   "execution_count": 14,
   "metadata": {},
   "outputs": [
    {
     "data": {
      "text/plain": [
       "{0: [0, 3, 5, 5, 4, 6, 7, 7, 7, 6],\n",
       " 1: [3, 0, 4, 6, 5, 5, 6, 4, 6, 3],\n",
       " 2: [5, 4, 0, 6, 5, 7, 6, 8, 6, 7],\n",
       " 3: [5, 6, 6, 0, 7, 7, 8, 6, 4, 7],\n",
       " 4: [4, 5, 5, 7, 0, 6, 7, 9, 9, 8],\n",
       " 5: [6, 5, 7, 7, 6, 0, 5, 5, 5, 4],\n",
       " 6: [7, 6, 6, 8, 7, 5, 0, 6, 6, 5],\n",
       " 7: [7, 4, 8, 6, 9, 5, 6, 0, 8, 5],\n",
       " 8: [7, 6, 6, 4, 9, 5, 6, 8, 0, 5],\n",
       " 9: [6, 3, 7, 7, 8, 4, 5, 5, 5, 0]}"
      ]
     },
     "execution_count": 14,
     "metadata": {},
     "output_type": "execute_result"
    }
   ],
   "source": [
    "gen_neighbors()"
   ]
  },
  {
   "cell_type": "code",
   "execution_count": null,
   "metadata": {},
   "outputs": [],
   "source": []
  }
 ],
 "metadata": {
  "kernelspec": {
   "display_name": "base",
   "language": "python",
   "name": "python3"
  },
  "language_info": {
   "codemirror_mode": {
    "name": "ipython",
    "version": 3
   },
   "file_extension": ".py",
   "mimetype": "text/x-python",
   "name": "python",
   "nbconvert_exporter": "python",
   "pygments_lexer": "ipython3",
   "version": "3.8.15"
  },
  "orig_nbformat": 4,
  "vscode": {
   "interpreter": {
    "hash": "62ca328bea2807fdbcf0772dec5911af88ca03e1e8ae5bac692e27b455f5f738"
   }
  }
 },
 "nbformat": 4,
 "nbformat_minor": 2
}
