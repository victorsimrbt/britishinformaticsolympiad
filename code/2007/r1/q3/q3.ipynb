{
 "cells": [
  {
   "cell_type": "code",
   "execution_count": null,
   "metadata": {},
   "outputs": [],
   "source": [
    "import numpy as np\n",
    "conversion = {\n",
    "    \"A\":\"B\",\n",
    "    \"B\":\"AB\",\n",
    "    \"C\":\"CD\",\n",
    "    \"D\":\"DC\",\n",
    "    \"E\":\"EE\"\n",
    "    }\n",
    "\n",
    "def a_growth(n):\n",
    "    if n == 1:\n",
    "        return 1\n",
    "    if n == 2:\n",
    "        return 2\n",
    "    return a_growth(n-1)+a_growth(n-2)\n",
    "\n",
    "def b_growth(n):\n",
    "    if n == 1 or n == 2:\n",
    "        return 1\n",
    "    return b_growth(n-1)+b_growth(n-2)\n",
    "\n",
    "def convert(text):\n",
    "    return ''.join([conversion[char] for char in text])\n",
    "\n",
    "def chart_growth(text,steps):\n",
    "    growths = []\n",
    "    for char in text:\n",
    "        if char == \"A\":\n",
    "            growths.append(a_growth(steps))\n",
    "        elif char == \"B\":\n",
    "            growths.append(b_growth(steps))\n",
    "        else:\n",
    "            growths.append(2**steps)\n",
    "    return growths\n",
    "\n",
    "def relevant_text(index,text,steps):\n",
    "    growths = chart_growth(text,steps)\n",
    "    relevant_text = ''\n",
    "    remaining_chars = index\n",
    "    for i in range(len(growths)):\n",
    "        remaining_chars -= growths[i]\n",
    "        relevant_text += text[i]\n",
    "        if remaining_chars <= 0:\n",
    "            break\n",
    "    return growths[:i+1],relevant_text,remaining_chars\n",
    "\n",
    "def count(text,steps,index):\n",
    "    counts = [text.count(\"A\"),text.count(\"B\"),text.count(\"C\"),text.count(\"D\"),text.count(\"E\")]\n",
    "    #new_text = text\n",
    "    for i in range(steps):\n",
    "        old_counts = counts[:]\n",
    "        counts[0] = old_counts[1]\n",
    "        counts[1] += old_counts[0]\n",
    "        counts[2] += old_counts[3]\n",
    "        counts[3] += old_counts[2]\n",
    "        counts[4] += old_counts[4]\n",
    "        #new_text= convert(new_text)\n",
    "        excess = sum(counts)-index\n",
    "        if excess > 0:\n",
    "            return old_counts,counts\n",
    "# For second half of C and D, they are reversed recursively\n",
    "\n",
    "text = \"EEE\"\n",
    "steps = 29\n",
    "index = 1000000000\n",
    "count(text,steps,index)"
   ]
  },
  {
   "cell_type": "code",
   "execution_count": null,
   "metadata": {},
   "outputs": [],
   "source": [
    "convert(\"CD\")"
   ]
  },
  {
   "cell_type": "code",
   "execution_count": null,
   "metadata": {},
   "outputs": [],
   "source": [
    "base_seq = {\n",
    "    \"A\":\"ABB\",\n",
    "    \"B\":\"BA\",\n",
    "    \"C\":\"C\",\n",
    "    \"D\":\"D\",\n",
    "    \"E\":\"E\"\n",
    "}\n",
    "\n",
    "# hidden rules:\n",
    "'''\n",
    "C and D: \n",
    "second half of seq is opposite of first half\n",
    "\n",
    "E:\n",
    "ALL Es\n",
    "\n",
    "A and B:\n",
    "Concat last two strings\n",
    "\n",
    "All I need to find is how many of each letter generated from a given string at a given index\n",
    "\n",
    "'''"
   ]
  },
  {
   "cell_type": "code",
   "execution_count": null,
   "metadata": {},
   "outputs": [],
   "source": [
    "def a_n(n):\n",
    "    if n == 0:\n",
    "        return 0,1\n",
    "    if n == 1:\n",
    "        return 1,1\n",
    "    nA = 0\n",
    "    nB = 0\n",
    "    a_n(n-2)+a_n(n-1)"
   ]
  },
  {
   "cell_type": "code",
   "execution_count": 56,
   "metadata": {},
   "outputs": [
    {
     "data": {
      "text/plain": [
       "('CDDCDCCDDCCDCDDCDCCDCDDCCDDCDCCDDCCDCDDCCDDCDCCDCDDCDCCDDCCDCDDCDCCDCDDCCDDCDCCDCDDCDCCDDCCDCDDCCDDCDCCDDCCDCDDCDCCDCDDCCDDCDCCDDCCDCDDCCDDCDCCDCDDCDCCDDCCDCDDCCDDCDCCDDCCDCDDCDCCDCDDCCDDCDCCDCDDCDCCDDCCDCDDCDCCDCDDCCDDCDCCDDCCDCDDCCDDCDCCDCDDCDCCDDCCDCDDCDCCDCDDCCDDCDCCDCDDCDCCDDCCDCDDCCDDCDCCDDCCDCDDCDCCDCDDCCDDCDCCDCDDCDCCDDCCDCDDCDCCDCDDCCDDCDCCDDCCDCDDCCDDCDCCDCDDCDCCDDCCDCDDCCDDCDCCDDCCDCDDCDCCDCDDCCDDCDCCDDCCDCDDCCDDCDCCDCDDCDCCDDCCDCDDCDCCDCDDCCDDCDCCDCDDCDCCDDCCDCDDCCDDCDCCDDCCDCDDCDCCDCDDCCDDCDCCD',\n",
       " 'CDDCDCCDDCCDCDDCDCCDCDDCCDDCDCCDDCCDCDDCCDDCDCCDCDDCDCCDDCCDCDDCDCCDCDDCCDDCDCCDCDDCDCCDDCCDCDDCCDDCDCCDDCCDCDDCDCCDCDDCCDDCDCCDDCCDCDDCCDDCDCCDCDDCDCCDDCCDCDDCCDDCDCCDDCCDCDDCDCCDCDDCCDDCDCCDCDDCDCCDDCCDCDDCDCCDCDDCCDDCDCCDDCCDCDDCCDDCDCCDCDDCDCCDDCCDCDDCDCCDCDDCCDDCDCCDCDDCDCCDDCCDCDDCCDDCDCCDDCCDCDDCDCCDCDDCCDDCDCCDCDDCDCCDDCCDCDDCDCCDCDDCCDDCDCCDDCCDCDDCCDDCDCCDCDDCDCCDDCCDCDDCCDDCDCCDDCCDCDDCDCCDCDDCCDDCDCCDDCCDCDDCCDDCDCCDCDDCDCCDDCCDCDDCDCCDCDDCCDDCDCCDCDDCDCCDDCCDCDDCCDDCDCCDDCCDCDDCDCCDCDDCCDDCDCCD')"
      ]
     },
     "execution_count": 56,
     "metadata": {},
     "output_type": "execute_result"
    }
   ],
   "source": [
    "new_text = \"C\"\n",
    "for i in range(10):\n",
    "    new_text = convert(new_text)\n",
    "new_text[:len(new_text)//2],''.join(list(reversed(new_text[len(new_text)//2:])))"
   ]
  },
  {
   "cell_type": "code",
   "execution_count": 60,
   "metadata": {},
   "outputs": [
    {
     "name": "stdout",
     "output_type": "stream",
     "text": [
      "CDDCDCCDDCCDCDDCDCCDCDDCCDDCDCCDDCCDCDDCCDDCDCCDCDDCDCCDDCCDCDDCDCCDCDDCCDDCDCCDCDDCDCCDDCCDCDDCCDDCDCCDDCCDCDDCDCCDCDDCCDDCDCCDDCCDCDDCCDDCDCCDCDDCDCCDDCCDCDDCCDDCDCCDDCCDCDDCDCCDCDDCCDDCDCCDCDDCDCCDDCCDCDDCDCCDCDDCCDDCDCCDDCCDCDDCCDDCDCCDCDDCDCCDDCCDCDDCDCCDCDDCCDDCDCCDCDDCDCCDDCCDCDDCCDDCDCCDDCCDCDDCDCCDCDDCCDDCDCCDCDDCDCCDDCCDCDDCDCCDCDDCCDDCDCCDDCCDCDDCCDDCDCCDCDDCDCCDDCCDCDDCCDDCDCCDDCCDCDDCDCCDCDDCCDDCDCCDDCCDCDDCCDDCDCCDCDDCDCCDDCCDCDDCDCCDCDDCCDDCDCCDCDDCDCCDDCCDCDDCCDDCDCCDDCCDCDDCDCCDCDDCCDDCDCCDDCCDCDDCCDDCDCCDCDDCDCCDDCCDCDDCCDDCDCCDDCCDCDDCDCCDCDDCCDDCDCCDCDDCDCCDDCCDCDDCDCCDCDDCCDDCDCCDDCCDCDDCCDDCDCCDCDDCDCCDDCCDCDDCCDDCDCCDDCCDCDDCDCCDCDDCCDDCDCCDDCCDCDDCCDDCDCCDCDDCDCCDDCCDCDDCDCCDCDDCCDDCDCCDCDDCDCCDDCCDCDDCCDDCDCCDDCCDCDDCDCCDCDDCCDDCDCCDCDDCDCCDDCCDCDDCDCCDCDDCCDDCDCCDDCCDCDDCCDDCDCCDCDDCDCCDDCCDCDDCDCCDCDDCCDDCDCCDCDDCDCCDDCCDCDDCCDDCDCCDDCCDCDDCDCCDCDDCCDDCDCCDDCCDCDDCCDDCDCCDCDDCDCCDDCCDCDDCCDDCDCCDDCCDCDDCDCCDCDDCCDDCDCCDCDDCDCCDDCCDCDDCDCCDCDDCCDDCDCCDDCCDCDDCCDDCDCCDCDDCDCCDDCCDCDDC\n"
     ]
    },
    {
     "data": {
      "text/plain": [
       "[0,\n",
       " 3,\n",
       " 5,\n",
       " 6,\n",
       " 9,\n",
       " 10,\n",
       " 12,\n",
       " 15,\n",
       " 17,\n",
       " 18,\n",
       " 20,\n",
       " 23,\n",
       " 24,\n",
       " 27,\n",
       " 29,\n",
       " 30,\n",
       " 33,\n",
       " 34,\n",
       " 36,\n",
       " 39,\n",
       " 40,\n",
       " 43,\n",
       " 45,\n",
       " 46,\n",
       " 48,\n",
       " 51,\n",
       " 53,\n",
       " 54,\n",
       " 57,\n",
       " 58]"
      ]
     },
     "execution_count": 60,
     "metadata": {},
     "output_type": "execute_result"
    }
   ],
   "source": [
    "from matplotlib import pyplot as plt\n",
    "c = []\n",
    "d = []\n",
    "print(new_text)\n",
    "for i in range(60):\n",
    "    if new_text[i] == \"C\":\n",
    "        c.append(i)\n",
    "c"
   ]
  },
  {
   "cell_type": "code",
   "execution_count": null,
   "metadata": {},
   "outputs": [],
   "source": [
    "reverse_dict = {\n",
    "    'C':'D',\n",
    "    'D':'C'\n",
    "}\n",
    "\n",
    "c_memo = {}\n",
    "def generate_a(step):\n",
    "    if step == 0:\n",
    "        return \"B\"\n",
    "    if step == 1:\n",
    "        return \"AB\"\n",
    "    return generate_a(step-1)+generate_a(step-2)\n",
    "\n",
    "def generate_b(step):\n",
    "    if step == 0:\n",
    "        return \"AB\"\n",
    "    if step == 1:\n",
    "        return \"BAB\"\n",
    "    return generate_b(step-1)+generate_b(step-2)\n",
    "\n",
    "idx = 1664080\n",
    "def generate_c(step):\n",
    "    global idx\n",
    "    print(step)\n",
    "    if step == 0:\n",
    "        return \"CD\"\n",
    "    if step in c_memo:\n",
    "        print(\"MEMO\")\n",
    "        return c_memo[step]\n",
    "    else:\n",
    "        stepm1 = generate_c(step-1)\n",
    "        if idx < len(stepm1):\n",
    "            print(\"IDX\",idx)\n",
    "            return stepm1[:idx]\n",
    "        ans = stepm1 + stepm1[len(stepm1)//2:] + stepm1[:len(stepm1)//2]\n",
    "        c_memo[step] = ans\n",
    "        return ans\n",
    "\n",
    "generate_c(29)\n",
    "2"
   ]
  },
  {
   "cell_type": "code",
   "execution_count": null,
   "metadata": {},
   "outputs": [],
   "source": [
    "2**29"
   ]
  },
  {
   "cell_type": "code",
   "execution_count": null,
   "metadata": {},
   "outputs": [],
   "source": [
    "c_memo[5]"
   ]
  },
  {
   "cell_type": "code",
   "execution_count": null,
   "metadata": {},
   "outputs": [],
   "source": [
    "''.join(list(map(reverse,new_text)))"
   ]
  },
  {
   "cell_type": "code",
   "execution_count": null,
   "metadata": {},
   "outputs": [],
   "source": [
    "\"C\" in reverse_dict"
   ]
  },
  {
   "cell_type": "code",
   "execution_count": null,
   "metadata": {},
   "outputs": [],
   "source": []
  }
 ],
 "metadata": {
  "kernelspec": {
   "display_name": "base",
   "language": "python",
   "name": "python3"
  },
  "language_info": {
   "codemirror_mode": {
    "name": "ipython",
    "version": 3
   },
   "file_extension": ".py",
   "mimetype": "text/x-python",
   "name": "python",
   "nbconvert_exporter": "python",
   "pygments_lexer": "ipython3",
<<<<<<< HEAD
   "version": "3.8.3 (default, May 19 2020, 06:50:17) [MSC v.1916 64 bit (AMD64)]"
=======
   "version": "3.9.12"
>>>>>>> ceded62aa544a52bcb5a1f3d4bb9c5254c28a161
  },
  "orig_nbformat": 4,
  "vscode": {
   "interpreter": {
    "hash": "62ca328bea2807fdbcf0772dec5911af88ca03e1e8ae5bac692e27b455f5f738"
   }
  }
 },
 "nbformat": 4,
 "nbformat_minor": 2
}
