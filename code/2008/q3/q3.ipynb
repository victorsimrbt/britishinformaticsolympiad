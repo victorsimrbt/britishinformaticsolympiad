{
 "cells": [
  {
   "cell_type": "code",
   "execution_count": 7,
   "metadata": {},
   "outputs": [
    {
     "name": "stdout",
     "output_type": "stream",
     "text": [
      "14\n"
     ]
    }
   ],
   "source": [
    "import numpy as np\n",
    "target = [1,2,3,4,5,6,7]\n",
    "\n",
    "def op1(shirts):\n",
    "    removed_shirt = shirts[0]\n",
    "    new_shirts = shirts[1:]\n",
    "    new_shirts.insert(3,removed_shirt)\n",
    "    return new_shirts\n",
    "\n",
    "def op2(shirts):\n",
    "    removed_shirt = shirts[-1]\n",
    "    new_shirts = shirts[:-1]\n",
    "    new_shirts.insert(3,removed_shirt)\n",
    "    return new_shirts\n",
    "\n",
    "def op3(shirts):\n",
    "    removed_shirt = shirts[3]\n",
    "    new_shirts = shirts[:3]+shirts[4:]\n",
    "    new_shirts.insert(0,removed_shirt)\n",
    "    return new_shirts\n",
    "\n",
    "def op4(shirts):\n",
    "    removed_shirt = shirts[3]\n",
    "    new_shirts = shirts[:3]+shirts[4:]\n",
    "    new_shirts.append(removed_shirt)\n",
    "    return new_shirts\n",
    "\n",
    "operations = [op1,op2,op3,op4]\n",
    "\n",
    "# print(op4([1, 2, 3, 4, 5, 6,7]))\n",
    "\n",
    "visited = set() # List to keep track of visited nodes.\n",
    "queue = []     #Initialize a queue\n",
    "path = []\n",
    "\n",
    "def bfs(visited, node):\n",
    "    visited.add(''.join([str(char) for char in node]))\n",
    "    #print(node)\n",
    "    queue.append([node,1])\n",
    "\n",
    "    while queue:\n",
    "        s = queue.pop(0)\n",
    "        new = s[0]\n",
    "        distance = s[1]\n",
    "        #print(s[0], end = \" \") \n",
    "        \n",
    "        neighbours = []\n",
    "        for operation in operations:\n",
    "            neighbours.append(operation(new))\n",
    "        #print(neighbours)\n",
    "        for neighbour in neighbours:\n",
    "            if ''.join([str(char) for char in neighbour]) not in visited:\n",
    "                visited.add(''.join([str(char) for char in neighbour]))\n",
    "                queue.append([neighbour,distance + 1])\n",
    "            if neighbour == target:\n",
    "                print(distance)\n",
    "                return\n",
    "\n",
    "# shirts = [int(value) for value in input()]\n",
    "shirts = [5,6,7,4,3,2,1]\n",
    "bfs(visited, shirts)"
   ]
  },
  {
   "cell_type": "code",
   "execution_count": null,
   "metadata": {},
   "outputs": [],
   "source": []
  }
 ],
 "metadata": {
  "kernelspec": {
   "display_name": "base",
   "language": "python",
   "name": "python3"
  },
  "language_info": {
   "codemirror_mode": {
    "name": "ipython",
    "version": 3
   },
   "file_extension": ".py",
   "mimetype": "text/x-python",
   "name": "python",
   "nbconvert_exporter": "python",
   "pygments_lexer": "ipython3",
   "version": "3.8.15"
  },
  "orig_nbformat": 4,
  "vscode": {
   "interpreter": {
    "hash": "62ca328bea2807fdbcf0772dec5911af88ca03e1e8ae5bac692e27b455f5f738"
   }
  }
 },
 "nbformat": 4,
 "nbformat_minor": 2
}
