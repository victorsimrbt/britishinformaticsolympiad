{
 "cells": [
  {
   "cell_type": "code",
   "execution_count": 5,
   "metadata": {},
   "outputs": [
    {
     "data": {
      "text/plain": [
       "5.05"
      ]
     },
     "execution_count": 5,
     "metadata": {},
     "output_type": "execute_result"
    }
   ],
   "source": [
    "5*1.01"
   ]
  },
  {
   "cell_type": "code",
   "execution_count": 7,
   "metadata": {},
   "outputs": [
    {
     "name": "stdout",
     "output_type": "stream",
     "text": [
      "148.0 71.03999999999999 0.0\n",
      "113.9008 54.672384 71.03999999999999\n",
      "87.65805568 50.0 125.71238399999999\n",
      "55.733922406400005 50.0 175.712384\n",
      "8.486205161472007 8.486205161472007 225.712384\n"
     ]
    },
    {
     "data": {
      "text/plain": [
       "234.198589161472"
      ]
     },
     "execution_count": 7,
     "metadata": {},
     "output_type": "execute_result"
    }
   ],
   "source": [
    "import math\n",
    "\n",
    "interest,repayment = [float(val)/100 for val in input().split()]\n",
    "\n",
    "repaid = 0.0\n",
    "debt = 100.0\n",
    "def threedp(n):\n",
    "    if type(n) == int:\n",
    "        return n\n",
    "    integer,decimal = str(n).split('.')\n",
    "    return float(integer+'.'+decimal[:2])\n",
    "\n",
    "while debt > 0:\n",
    "    debt *= (1+interest)\n",
    "    repay = max(repayment * debt,50.0)\n",
    "    repay = min(repay,debt)\n",
    "    print(debt,repay,repaid)\n",
    "    debt -= repay\n",
    "    repaid += repay\n",
    "    \n",
    "repaid"
   ]
  },
  {
   "cell_type": "code",
   "execution_count": 8,
   "metadata": {},
   "outputs": [
    {
     "data": {
      "text/plain": [
       "71.03999999999999"
      ]
     },
     "execution_count": 8,
     "metadata": {},
     "output_type": "execute_result"
    }
   ],
   "source": [
    "0.48*148"
   ]
  },
  {
   "cell_type": "code",
   "execution_count": null,
   "metadata": {},
   "outputs": [],
   "source": []
  }
 ],
 "metadata": {
  "kernelspec": {
   "display_name": "base",
   "language": "python",
   "name": "python3"
  },
  "language_info": {
   "codemirror_mode": {
    "name": "ipython",
    "version": 3
   },
   "file_extension": ".py",
   "mimetype": "text/x-python",
   "name": "python",
   "nbconvert_exporter": "python",
   "pygments_lexer": "ipython3",
   "version": "3.9.12"
  },
  "orig_nbformat": 4,
  "vscode": {
   "interpreter": {
    "hash": "19d1d53a962d236aa061289c2ac16dc8e6d9648c89fe79f459ae9a3493bc67b4"
   }
  }
 },
 "nbformat": 4,
 "nbformat_minor": 2
}
