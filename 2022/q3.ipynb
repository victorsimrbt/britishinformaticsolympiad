{
 "cells": [
  {
   "cell_type": "code",
   "execution_count": 32,
   "metadata": {},
   "outputs": [
    {
     "name": "stdout",
     "output_type": "stream",
     "text": [
      "c \n",
      "a c\n",
      "b ca\n",
      "d cab\n"
     ]
    },
    {
     "data": {
      "text/plain": [
       "{'c': ['a'], 'a': ['b'], 'b': ['c', 'b'], 'd': ['d', 'c', 'b', 'a']}"
      ]
     },
     "execution_count": 32,
     "metadata": {},
     "output_type": "execute_result"
    }
   ],
   "source": [
    "import string\n",
    "letters = string.ascii_lowercase\n",
    "config = \"cabd\"\n",
    "\n",
    "config_possibilities = {}\n",
    "\n",
    "for i in range(len(config)):\n",
    "    car = config[i]\n",
    "    possibilities = [letters[i]]\n",
    "    previous_cars = config[:i]\n",
    "    print(car,previous_cars)\n",
    "    for prev_car in range(len(previous_cars)-1,-1,-1):\n",
    "        #print(prev_car)\n",
    "        if previous_cars[prev_car] < car:\n",
    "            #print(previous_cars[prev_car])\n",
    "            possibilities.append(letters[prev_car])\n",
    "    config_possibilities[car] = possibilities\n",
    "config_possibilities"
   ]
  },
  {
   "cell_type": "code",
   "execution_count": 33,
   "metadata": {},
   "outputs": [],
   "source": [
    "for key in sorted(config_possibilities):\n",
    "    config_possibilities[key] = sorted(config_possibilities[key])"
   ]
  },
  {
   "cell_type": "code",
   "execution_count": 37,
   "metadata": {},
   "outputs": [
    {
     "name": "stdout",
     "output_type": "stream",
     "text": [
      "d ['a', 'b', 'c', 'd'] 0\n",
      "c ['a'] 0\n",
      "b ['b', 'c'] 0\n",
      "a ['b'] 0\n"
     ]
    },
    {
     "data": {
      "text/plain": [
       "'BBAA'"
      ]
     },
     "execution_count": 37,
     "metadata": {},
     "output_type": "execute_result"
    }
   ],
   "source": [
    "import numpy as np\n",
    "ans = []\n",
    "options = np.prod([len(config_possibilities[key]) for key in config_possibilities])\n",
    "idx = 0\n",
    "for key in reversed(sorted(config_possibilities)):\n",
    "    print(key,config_possibilities[key],idx)\n",
    "    ans.append(config_possibilities[key][idx % len(config_possibilities[key])].upper())\n",
    "    idx = idx // len(config_possibilities[key])\n",
    "''.join(list(reversed(ans)))"
   ]
  },
  {
   "cell_type": "code",
   "execution_count": 30,
   "metadata": {},
   "outputs": [
    {
     "name": "stdout",
     "output_type": "stream",
     "text": [
      "ABCDDHEDKKAANFMH\n"
     ]
    }
   ],
   "source": [
    "import string\n",
    "import numpy as np\n",
    "letters = string.ascii_lowercase\n",
    "config,idx = input().split()\n",
    "idx = int(idx)-1\n",
    "\n",
    "config_possibilities = {}\n",
    "\n",
    "for i in range(len(config)):\n",
    "    car = config[i]\n",
    "    possibilities = [letters[i]]\n",
    "    previous_cars = config[:i]\n",
    "    #print(car,possibilities,previous_cars)\n",
    "    for prev_car in range(len(previous_cars)-1,-1,-1):\n",
    "        if previous_cars[prev_car] < car:\n",
    "            possibilities.append(letters[prev_car])\n",
    "        else:\n",
    "            break\n",
    "    config_possibilities[car] = possibilities\n",
    "\n",
    "for key in sorted(config_possibilities):\n",
    "    config_possibilities[key] = sorted(config_possibilities[key])\n",
    "\n",
    "clean_config = {}\n",
    "\n",
    "for key in sorted(config_possibilities):\n",
    "    clean_config[key] = sorted(config_possibilities[key])\n",
    "    \n",
    "ans = []\n",
    "options = np.prod([len(config_possibilities[key]) for key in config_possibilities])\n",
    "for key in reversed(sorted(config_possibilities)):\n",
    "    #print(key,config_possibilities[key],idx)\n",
    "    ans.append(config_possibilities[key][idx % len(config_possibilities[key])].upper())\n",
    "    idx = idx // len(config_possibilities[key])\n",
    "print(''.join(list(reversed(ans))))"
   ]
  },
  {
   "cell_type": "code",
   "execution_count": 16,
   "metadata": {},
   "outputs": [
    {
     "data": {
      "text/plain": [
       "{'a': ['b'], 'b': ['b', 'd'], 'c': ['b', 'c'], 'd': ['a']}"
      ]
     },
     "execution_count": 16,
     "metadata": {},
     "output_type": "execute_result"
    }
   ],
   "source": [
    "clean_config = {}\n",
    "\n",
    "for key in sorted(config_possibilities):\n",
    "    clean_config[key] = sorted(config_possibilities[key])\n",
    "clean_config"
   ]
  },
  {
   "cell_type": "code",
   "execution_count": 8,
   "metadata": {},
   "outputs": [
    {
     "data": {
      "text/plain": [
       "{'a': ['a'],\n",
       " 'b': ['a', 'b'],\n",
       " 'c': ['a', 'b', 'c'],\n",
       " 'd': ['a', 'b', 'c', 'd'],\n",
       " 'e': ['a', 'b', 'c', 'd', 'e'],\n",
       " 'f': ['a', 'b', 'c', 'd', 'e', 'f'],\n",
       " 'g': ['a', 'b', 'c', 'd', 'e', 'f', 'g'],\n",
       " 'h': ['a', 'b', 'c', 'd', 'e', 'f', 'g', 'h'],\n",
       " 'i': ['a', 'b', 'c', 'd', 'e', 'f', 'g', 'h', 'i'],\n",
       " 'j': ['a', 'b', 'c', 'd', 'e', 'f', 'g', 'h', 'i', 'j'],\n",
       " 'k': ['a', 'b', 'c', 'd', 'e', 'f', 'g', 'h', 'i', 'j', 'k'],\n",
       " 'l': ['a', 'b', 'c', 'd', 'e', 'f', 'g', 'h', 'i', 'j', 'k', 'l'],\n",
       " 'm': ['a', 'b', 'c', 'd', 'e', 'f', 'g', 'h', 'i', 'j', 'k', 'l', 'm'],\n",
       " 'n': ['a', 'b', 'c', 'd', 'e', 'f', 'g', 'h', 'i', 'j', 'k', 'l', 'm', 'n'],\n",
       " 'o': ['a',\n",
       "  'b',\n",
       "  'c',\n",
       "  'd',\n",
       "  'e',\n",
       "  'f',\n",
       "  'g',\n",
       "  'h',\n",
       "  'i',\n",
       "  'j',\n",
       "  'k',\n",
       "  'l',\n",
       "  'm',\n",
       "  'n',\n",
       "  'o'],\n",
       " 'p': ['a',\n",
       "  'b',\n",
       "  'c',\n",
       "  'd',\n",
       "  'e',\n",
       "  'f',\n",
       "  'g',\n",
       "  'h',\n",
       "  'i',\n",
       "  'j',\n",
       "  'k',\n",
       "  'l',\n",
       "  'm',\n",
       "  'n',\n",
       "  'o',\n",
       "  'p']}"
      ]
     },
     "execution_count": 8,
     "metadata": {},
     "output_type": "execute_result"
    }
   ],
   "source": [
    "config_possibilities"
   ]
  },
  {
   "cell_type": "code",
   "execution_count": 6,
   "metadata": {},
   "outputs": [
    {
     "data": {
      "text/plain": [
       "True"
      ]
     },
     "execution_count": 6,
     "metadata": {},
     "output_type": "execute_result"
    }
   ],
   "source": [
    "'ABACAEFHBFJAMLCB' == \"ABACAEFHBFJAMLCB\""
   ]
  },
  {
   "cell_type": "code",
   "execution_count": null,
   "metadata": {},
   "outputs": [],
   "source": []
  }
 ],
 "metadata": {
  "kernelspec": {
   "display_name": "base",
   "language": "python",
   "name": "python3"
  },
  "language_info": {
   "codemirror_mode": {
    "name": "ipython",
    "version": 3
   },
   "file_extension": ".py",
   "mimetype": "text/x-python",
   "name": "python",
   "nbconvert_exporter": "python",
   "pygments_lexer": "ipython3",
   "version": "3.8.3 (default, May 19 2020, 06:50:17) [MSC v.1916 64 bit (AMD64)]"
  },
  "orig_nbformat": 4,
  "vscode": {
   "interpreter": {
    "hash": "62ca328bea2807fdbcf0772dec5911af88ca03e1e8ae5bac692e27b455f5f738"
   }
  }
 },
 "nbformat": 4,
 "nbformat_minor": 2
}
