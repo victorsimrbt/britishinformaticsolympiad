{
 "cells": [
  {
   "cell_type": "code",
   "execution_count": 33,
   "metadata": {},
   "outputs": [
    {
     "data": {
      "text/plain": [
       "22"
      ]
     },
     "execution_count": 33,
     "metadata": {},
     "output_type": "execute_result"
    }
   ],
   "source": [
    "import string\n",
    "alphabet = string.ascii_uppercase\n",
    "alphabet.index(\"S\")+1+alphabet.index(\"C\")+1"
   ]
  },
  {
   "cell_type": "code",
   "execution_count": 34,
   "metadata": {},
   "outputs": [
    {
     "data": {
      "text/plain": [
       "['E', 'S', 'V', 'N', 'M', 'C', 'W']"
      ]
     },
     "execution_count": 34,
     "metadata": {},
     "output_type": "execute_result"
    }
   ],
   "source": [
    "text = list(\"ENCRYPT\")\n",
    "prev_idx = alphabet.index(text[0])\n",
    "for i in range(1,len(text)):\n",
    "    idx = alphabet.index(text[i])+1\n",
    "    prev_idx = alphabet.index(text[i-1])+1\n",
    "    \n",
    "    new_idx = (idx+prev_idx) % 26\n",
    "    text[i] = alphabet[new_idx-1]\n",
    "text"
   ]
  },
  {
   "cell_type": "code",
   "execution_count": 29,
   "metadata": {},
   "outputs": [
    {
     "name": "stdout",
     "output_type": "stream",
     "text": [
      "20\n",
      "16\n",
      "25\n",
      "18\n",
      "3\n",
      "14\n"
     ]
    },
    {
     "data": {
      "text/plain": [
       "'ENCRYPT'"
      ]
     },
     "execution_count": 29,
     "metadata": {},
     "output_type": "execute_result"
    }
   ],
   "source": [
    "text = \"ESVNMCW\"\n",
    "new_txt = list()\n",
    "for i in range(len(text)-1,0,-1):\n",
    "    char_idx = alphabet.index(text[i])\n",
    "    prev_idx = alphabet.index(text[i-1])\n",
    "    \n",
    "    if prev_idx > char_idx:\n",
    "        original = 26-prev_idx+char_idx\n",
    "    else:\n",
    "        original = char_idx-prev_idx\n",
    "    print(original)\n",
    "    new_txt.insert(0,alphabet[original])\n",
    "        \n",
    "    \n",
    "''.join([text[0]]+new_txt)"
   ]
  },
  {
   "cell_type": "code",
   "execution_count": null,
   "metadata": {},
   "outputs": [],
   "source": []
  }
 ],
 "metadata": {
  "kernelspec": {
   "display_name": "base",
   "language": "python",
   "name": "python3"
  },
  "language_info": {
   "codemirror_mode": {
    "name": "ipython",
    "version": 3
   },
   "file_extension": ".py",
   "mimetype": "text/x-python",
   "name": "python",
   "nbconvert_exporter": "python",
   "pygments_lexer": "ipython3",
   "version": "3.9.12"
  },
  "orig_nbformat": 4
 },
 "nbformat": 4,
 "nbformat_minor": 2
}
